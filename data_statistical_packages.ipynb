{
 "cells": [
  {
   "cell_type": "markdown",
   "metadata": {},
   "source": [
    "# Data and Statistics Packages"
   ]
  },
  {
   "cell_type": "markdown",
   "metadata": {},
   "source": [
    "## Contents\n",
    "\n",
    "- [Data and Statistics Packages](#Data-and-Statistics-Packages)  \n",
    "  - [Overview](#Overview)  \n",
    "  - [DataFrames](#DataFrames)  \n",
    "  - [Statistics and Econometrics](#Statistics-and-Econometrics)  "
   ]
  },
  {
   "cell_type": "markdown",
   "metadata": {},
   "source": [
    "## Overview\n",
    "\n",
    "This lecture explores some of the key packages for working with data and doing statistics in Julia\n",
    "\n",
    "In particular, we will examine the `DataFrame` object in detail (i.e., construction, manipulation, querying, visualization, and nuances like missing data)\n",
    "\n",
    "While Julia is not an ideal language for pure cookie-cutter statistical analysis, it has many useful packages to provide those tools as part of a more general solution\n",
    "\n",
    "Examples include `GLM.jl` and `FixedEffectModels.jl`, which we discuss\n",
    "\n",
    "This list is not exhaustive, and others can be found in organizations such as [JuliaStats](https://github.com/JuliaStats), [JuliaData](https://github.com/JuliaData/), and  [QueryVerse](https://github.com/queryverse)"
   ]
  },
  {
   "cell_type": "markdown",
   "metadata": {},
   "source": [
    "### Setup"
   ]
  },
  {
   "cell_type": "code",
   "execution_count": 1,
   "metadata": {
    "hide-output": false
   },
   "outputs": [],
   "source": [
    "using InstantiateFromURL\n",
    "activate_github(\"QuantEcon/QuantEconLectureAllPackages\", tag = \"v0.9.6\");"
   ]
  },
  {
   "cell_type": "code",
   "execution_count": 2,
   "metadata": {
    "hide-output": true
   },
   "outputs": [],
   "source": [
    "using LinearAlgebra, Statistics, Compat\n",
    "using DataFrames, RDatasets, DataFramesMeta, CategoricalArrays, Query, VegaLite\n",
    "using DataVoyager, GLM, RegressionTables, FixedEffectModels"
   ]
  },
  {
   "cell_type": "markdown",
   "metadata": {},
   "source": [
    "## DataFrames\n",
    "\n",
    "A useful package for working with data is [DataFrames.jl](https://github.com/JuliaStats/DataFrames.jl)\n",
    "\n",
    "The most important data type provided is a `DataFrame`, a two dimensional array for storing heterogeneous data\n",
    "\n",
    "Although data can be heterogeneous within a `DataFrame`, the contents of the columns must be homogeneous\n",
    "(of the same type)\n",
    "\n",
    "This is analogous to a `data.frame` in R, a `DataFrame` in Pandas (Python) or, more loosely, a spreadsheet in Excel\n",
    "\n",
    "There are a few different ways to create a DataFrame"
   ]
  },
  {
   "cell_type": "markdown",
   "metadata": {},
   "source": [
    "### Constructing a DataFrame\n",
    "\n",
    "The first is to set up columns and construct a dataframe by assigning names"
   ]
  },
  {
   "cell_type": "code",
   "execution_count": 3,
   "metadata": {
    "hide-output": false
   },
   "outputs": [
    {
     "data": {
      "text/html": [
       "<table class=\"data-frame\"><thead><tr><th></th><th>commod</th><th>price</th></tr><tr><th></th><th>String</th><th>Float64⍰</th></tr></thead><tbody><p>4 rows × 2 columns</p><tr><th>1</th><td>crude</td><td>4.2</td></tr><tr><th>2</th><td>gas</td><td>11.3</td></tr><tr><th>3</th><td>gold</td><td>12.1</td></tr><tr><th>4</th><td>silver</td><td>missing</td></tr></tbody></table>"
      ],
      "text/latex": [
       "\\begin{tabular}{r|cc}\n",
       "\t& commod & price\\\\\n",
       "\t\\hline\n",
       "\t1 & crude & 4.2 \\\\\n",
       "\t2 & gas & 11.3 \\\\\n",
       "\t3 & gold & 12.1 \\\\\n",
       "\t4 & silver &  \\\\\n",
       "\\end{tabular}\n"
      ],
      "text/plain": [
       "4×2 DataFrame\n",
       "│ Row │ commod │ price    │\n",
       "│     │ \u001b[90mString\u001b[39m │ \u001b[90mFloat64⍰\u001b[39m │\n",
       "├─────┼────────┼──────────┤\n",
       "│ 1   │ crude  │ 4.2      │\n",
       "│ 2   │ gas    │ 11.3     │\n",
       "│ 3   │ gold   │ 12.1     │\n",
       "│ 4   │ silver │ \u001b[90mmissing\u001b[39m  │"
      ]
     },
     "execution_count": 3,
     "metadata": {},
     "output_type": "execute_result"
    }
   ],
   "source": [
    "using DataFrames, RDatasets  # RDatasets provides good standard data examples from R\n",
    "\n",
    "# note use of missing\n",
    "commodities = [\"crude\", \"gas\", \"gold\", \"silver\"]\n",
    "last_price = [4.2, 11.3, 12.1, missing]\n",
    "df = DataFrame(commod = commodities, price = last_price)"
   ]
  },
  {
   "cell_type": "markdown",
   "metadata": {},
   "source": [
    "Columns of the `DataFrame` can be accessed by name using a symbol `df[:row]` or a struct-style `df.row`, as below"
   ]
  },
  {
   "cell_type": "code",
   "execution_count": 4,
   "metadata": {
    "hide-output": false
   },
   "outputs": [
    {
     "data": {
      "text/plain": [
       "4-element Array{Union{Missing, Float64},1}:\n",
       "  4.2     \n",
       " 11.3     \n",
       " 12.1     \n",
       "   missing"
      ]
     },
     "execution_count": 4,
     "metadata": {},
     "output_type": "execute_result"
    }
   ],
   "source": [
    "df[:price]"
   ]
  },
  {
   "cell_type": "code",
   "execution_count": 5,
   "metadata": {
    "hide-output": false
   },
   "outputs": [
    {
     "data": {
      "text/plain": [
       "4-element Array{Union{Missing, Float64},1}:\n",
       "  4.2     \n",
       " 11.3     \n",
       " 12.1     \n",
       "   missing"
      ]
     },
     "execution_count": 5,
     "metadata": {},
     "output_type": "execute_result"
    }
   ],
   "source": [
    "df.price"
   ]
  },
  {
   "cell_type": "markdown",
   "metadata": {},
   "source": [
    "Note that the type of this array has values `Union{Missing, Float64}` since it was created with a `missing` value"
   ]
  },
  {
   "cell_type": "code",
   "execution_count": 6,
   "metadata": {
    "hide-output": false
   },
   "outputs": [
    {
     "data": {
      "text/plain": [
       "4-element Array{String,1}:\n",
       " \"crude\" \n",
       " \"gas\"   \n",
       " \"gold\"  \n",
       " \"silver\""
      ]
     },
     "execution_count": 6,
     "metadata": {},
     "output_type": "execute_result"
    }
   ],
   "source": [
    "df.commod"
   ]
  },
  {
   "cell_type": "markdown",
   "metadata": {},
   "source": [
    "The `DataFrames.jl` package provides a number of methods for acting on `DataFrame`’s, such as `describe`"
   ]
  },
  {
   "cell_type": "code",
   "execution_count": 7,
   "metadata": {
    "hide-output": false
   },
   "outputs": [
    {
     "data": {
      "text/html": [
       "<table class=\"data-frame\"><thead><tr><th></th><th>variable</th><th>mean</th><th>min</th><th>median</th><th>max</th><th>nunique</th><th>nmissing</th><th>eltype</th></tr><tr><th></th><th>Symbol</th><th>Union…</th><th>Any</th><th>Union…</th><th>Any</th><th>Union…</th><th>Union…</th><th>DataType</th></tr></thead><tbody><p>2 rows × 8 columns</p><tr><th>1</th><td>commod</td><td></td><td>crude</td><td></td><td>silver</td><td>4</td><td></td><td>String</td></tr><tr><th>2</th><td>price</td><td>9.2</td><td>4.2</td><td>11.3</td><td>12.1</td><td></td><td>1</td><td>Float64</td></tr></tbody></table>"
      ],
      "text/latex": [
       "\\begin{tabular}{r|cccccccc}\n",
       "\t& variable & mean & min & median & max & nunique & nmissing & eltype\\\\\n",
       "\t\\hline\n",
       "\t1 & commod &  & crude &  & silver & 4 &  & String \\\\\n",
       "\t2 & price & 9.2 & 4.2 & 11.3 & 12.1 &  & 1 & Float64 \\\\\n",
       "\\end{tabular}\n"
      ],
      "text/plain": [
       "2×8 DataFrame. Omitted printing of 1 columns\n",
       "│ Row │ variable │ mean   │ min   │ median │ max    │ nunique │ nmissing │\n",
       "│     │ \u001b[90mSymbol\u001b[39m   │ \u001b[90mUnion…\u001b[39m │ \u001b[90mAny\u001b[39m   │ \u001b[90mUnion…\u001b[39m │ \u001b[90mAny\u001b[39m    │ \u001b[90mUnion…\u001b[39m  │ \u001b[90mUnion…\u001b[39m   │\n",
       "├─────┼──────────┼────────┼───────┼────────┼────────┼─────────┼──────────┤\n",
       "│ 1   │ commod   │        │ crude │        │ silver │ 4       │          │\n",
       "│ 2   │ price    │ 9.2    │ 4.2   │ 11.3   │ 12.1   │         │ 1        │"
      ]
     },
     "execution_count": 7,
     "metadata": {},
     "output_type": "execute_result"
    }
   ],
   "source": [
    "describe(df)"
   ]
  },
  {
   "cell_type": "markdown",
   "metadata": {},
   "source": [
    "While often data will be generated all at once, or read from a file, you can add to a `DataFrame` by providing the key parameters"
   ]
  },
  {
   "cell_type": "code",
   "execution_count": 8,
   "metadata": {
    "hide-output": false
   },
   "outputs": [
    {
     "data": {
      "text/html": [
       "<table class=\"data-frame\"><thead><tr><th></th><th>commod</th><th>price</th></tr><tr><th></th><th>String</th><th>Float64⍰</th></tr></thead><tbody><p>5 rows × 2 columns</p><tr><th>1</th><td>crude</td><td>4.2</td></tr><tr><th>2</th><td>gas</td><td>11.3</td></tr><tr><th>3</th><td>gold</td><td>12.1</td></tr><tr><th>4</th><td>silver</td><td>missing</td></tr><tr><th>5</th><td>nickel</td><td>5.1</td></tr></tbody></table>"
      ],
      "text/latex": [
       "\\begin{tabular}{r|cc}\n",
       "\t& commod & price\\\\\n",
       "\t\\hline\n",
       "\t1 & crude & 4.2 \\\\\n",
       "\t2 & gas & 11.3 \\\\\n",
       "\t3 & gold & 12.1 \\\\\n",
       "\t4 & silver &  \\\\\n",
       "\t5 & nickel & 5.1 \\\\\n",
       "\\end{tabular}\n"
      ],
      "text/plain": [
       "5×2 DataFrame\n",
       "│ Row │ commod │ price    │\n",
       "│     │ \u001b[90mString\u001b[39m │ \u001b[90mFloat64⍰\u001b[39m │\n",
       "├─────┼────────┼──────────┤\n",
       "│ 1   │ crude  │ 4.2      │\n",
       "│ 2   │ gas    │ 11.3     │\n",
       "│ 3   │ gold   │ 12.1     │\n",
       "│ 4   │ silver │ \u001b[90mmissing\u001b[39m  │\n",
       "│ 5   │ nickel │ 5.1      │"
      ]
     },
     "execution_count": 8,
     "metadata": {},
     "output_type": "execute_result"
    }
   ],
   "source": [
    "nt = (commod = \"nickel\", price= 5.1)\n",
    "push!(df, nt)"
   ]
  },
  {
   "cell_type": "markdown",
   "metadata": {},
   "source": [
    "Named tuples can also be used to construct a `DataFrame`, and have it properly deduce all types"
   ]
  },
  {
   "cell_type": "code",
   "execution_count": 9,
   "metadata": {
    "hide-output": false
   },
   "outputs": [
    {
     "data": {
      "text/html": [
       "<table class=\"data-frame\"><thead><tr><th></th><th>t</th><th>col1</th></tr><tr><th></th><th>Int64</th><th>Float64</th></tr></thead><tbody><p>2 rows × 2 columns</p><tr><th>1</th><td>1</td><td>3.0</td></tr><tr><th>2</th><td>2</td><td>4.0</td></tr></tbody></table>"
      ],
      "text/latex": [
       "\\begin{tabular}{r|cc}\n",
       "\t& t & col1\\\\\n",
       "\t\\hline\n",
       "\t1 & 1 & 3.0 \\\\\n",
       "\t2 & 2 & 4.0 \\\\\n",
       "\\end{tabular}\n"
      ],
      "text/plain": [
       "2×2 DataFrame\n",
       "│ Row │ t     │ col1    │\n",
       "│     │ \u001b[90mInt64\u001b[39m │ \u001b[90mFloat64\u001b[39m │\n",
       "├─────┼───────┼─────────┤\n",
       "│ 1   │ 1     │ 3.0     │\n",
       "│ 2   │ 2     │ 4.0     │"
      ]
     },
     "execution_count": 9,
     "metadata": {},
     "output_type": "execute_result"
    }
   ],
   "source": [
    "nt = (t = 1, col1 = 3.0)\n",
    "df2 = DataFrame([nt])\n",
    "push!(df2, (t=2, col1 = 4.0))"
   ]
  },
  {
   "cell_type": "markdown",
   "metadata": {},
   "source": [
    "### Working with Missing\n",
    "\n",
    "As we discussed in [fundamental types](https://lectures.quantecon.org/jl/fundamental_types.html#missing), the semantics of `missing` are that mathematical operations will not silently ignore it\n",
    "\n",
    "In order to allow `missing` in a column, you can create/load the `DataFrame`\n",
    "from a source with `missing`’s, or call `allowmissing!` on a column"
   ]
  },
  {
   "cell_type": "code",
   "execution_count": 10,
   "metadata": {
    "hide-output": false
   },
   "outputs": [
    {
     "data": {
      "text/html": [
       "<table class=\"data-frame\"><thead><tr><th></th><th>t</th><th>col1</th></tr><tr><th></th><th>Int64</th><th>Float64⍰</th></tr></thead><tbody><p>4 rows × 2 columns</p><tr><th>1</th><td>1</td><td>3.0</td></tr><tr><th>2</th><td>2</td><td>4.0</td></tr><tr><th>3</th><td>3</td><td>missing</td></tr><tr><th>4</th><td>4</td><td>5.1</td></tr></tbody></table>"
      ],
      "text/latex": [
       "\\begin{tabular}{r|cc}\n",
       "\t& t & col1\\\\\n",
       "\t\\hline\n",
       "\t1 & 1 & 3.0 \\\\\n",
       "\t2 & 2 & 4.0 \\\\\n",
       "\t3 & 3 &  \\\\\n",
       "\t4 & 4 & 5.1 \\\\\n",
       "\\end{tabular}\n"
      ],
      "text/plain": [
       "4×2 DataFrame\n",
       "│ Row │ t     │ col1     │\n",
       "│     │ \u001b[90mInt64\u001b[39m │ \u001b[90mFloat64⍰\u001b[39m │\n",
       "├─────┼───────┼──────────┤\n",
       "│ 1   │ 1     │ 3.0      │\n",
       "│ 2   │ 2     │ 4.0      │\n",
       "│ 3   │ 3     │ \u001b[90mmissing\u001b[39m  │\n",
       "│ 4   │ 4     │ 5.1      │"
      ]
     },
     "execution_count": 10,
     "metadata": {},
     "output_type": "execute_result"
    }
   ],
   "source": [
    "allowmissing!(df2, :col1) # necessary to add in a for col1\n",
    "push!(df2, (t=3, col1 = missing))\n",
    "push!(df2, (t=4, col1 = 5.1))"
   ]
  },
  {
   "cell_type": "markdown",
   "metadata": {},
   "source": [
    "We can see the propagation of `missing` to caller functions, as well as a way to efficiently calculate with non-missing data"
   ]
  },
  {
   "cell_type": "code",
   "execution_count": 11,
   "metadata": {
    "hide-output": false
   },
   "outputs": [
    {
     "name": "stdout",
     "output_type": "stream",
     "text": [
      "mean(df2.col1) = missing\n",
      "mean(skipmissing(df2.col1)) = "
     ]
    },
    {
     "name": "stdout",
     "output_type": "stream",
     "text": [
      "4.033333333333333\n"
     ]
    },
    {
     "data": {
      "text/plain": [
       "4.033333333333333"
      ]
     },
     "execution_count": 11,
     "metadata": {},
     "output_type": "execute_result"
    }
   ],
   "source": [
    "@show mean(df2.col1)\n",
    "@show mean(skipmissing(df2.col1))"
   ]
  },
  {
   "cell_type": "markdown",
   "metadata": {},
   "source": [
    "And to replace the `missing`"
   ]
  },
  {
   "cell_type": "code",
   "execution_count": 12,
   "metadata": {
    "hide-output": false
   },
   "outputs": [
    {
     "data": {
      "text/plain": [
       "4-element Array{Union{Missing, Float64},1}:\n",
       " 3.0\n",
       " 4.0\n",
       " 0.0\n",
       " 5.1"
      ]
     },
     "execution_count": 12,
     "metadata": {},
     "output_type": "execute_result"
    }
   ],
   "source": [
    "df2.col1  .= coalesce.(df2.col1, 0.0) # replace all missing with 0.0"
   ]
  },
  {
   "cell_type": "markdown",
   "metadata": {},
   "source": [
    "### Manipulating and Transforming DataFrames\n",
    "\n",
    "One way to do an additional calculation with a `DataFrame` is to tuse the `@transform` macro from `DataFramesMeta.jl`"
   ]
  },
  {
   "cell_type": "code",
   "execution_count": 13,
   "metadata": {
    "hide-output": false
   },
   "outputs": [
    {
     "data": {
      "text/html": [
       "<table class=\"data-frame\"><thead><tr><th></th><th>t</th><th>col1</th><th>col2</th></tr><tr><th></th><th>Int64</th><th>Float64⍰</th><th>Float64</th></tr></thead><tbody><p>4 rows × 3 columns</p><tr><th>1</th><td>1</td><td>3.0</td><td>9.0</td></tr><tr><th>2</th><td>2</td><td>4.0</td><td>16.0</td></tr><tr><th>3</th><td>3</td><td>0.0</td><td>0.0</td></tr><tr><th>4</th><td>4</td><td>5.1</td><td>26.01</td></tr></tbody></table>"
      ],
      "text/latex": [
       "\\begin{tabular}{r|ccc}\n",
       "\t& t & col1 & col2\\\\\n",
       "\t\\hline\n",
       "\t1 & 1 & 3.0 & 9.0 \\\\\n",
       "\t2 & 2 & 4.0 & 16.0 \\\\\n",
       "\t3 & 3 & 0.0 & 0.0 \\\\\n",
       "\t4 & 4 & 5.1 & 26.01 \\\\\n",
       "\\end{tabular}\n"
      ],
      "text/plain": [
       "4×3 DataFrame\n",
       "│ Row │ t     │ col1     │ col2    │\n",
       "│     │ \u001b[90mInt64\u001b[39m │ \u001b[90mFloat64⍰\u001b[39m │ \u001b[90mFloat64\u001b[39m │\n",
       "├─────┼───────┼──────────┼─────────┤\n",
       "│ 1   │ 1     │ 3.0      │ 9.0     │\n",
       "│ 2   │ 2     │ 4.0      │ 16.0    │\n",
       "│ 3   │ 3     │ 0.0      │ 0.0     │\n",
       "│ 4   │ 4     │ 5.1      │ 26.01   │"
      ]
     },
     "execution_count": 13,
     "metadata": {},
     "output_type": "execute_result"
    }
   ],
   "source": [
    "using DataFramesMeta\n",
    "f(x) = x^2\n",
    "df2 = @transform(df2, col2 = f.(:col1))"
   ]
  },
  {
   "cell_type": "markdown",
   "metadata": {},
   "source": [
    "### Categorical Data\n",
    "\n",
    "For data that is [categorical](https://juliadata.github.io/DataFrames.jl/stable/man/categorical.html#Categorical-Data-1)"
   ]
  },
  {
   "cell_type": "code",
   "execution_count": 14,
   "metadata": {
    "hide-output": false
   },
   "outputs": [
    {
     "data": {
      "text/html": [
       "<table class=\"data-frame\"><thead><tr><th></th><th>id</th><th>y</th></tr><tr><th></th><th>Int64</th><th>Categorical…</th></tr></thead><tbody><p>4 rows × 2 columns</p><tr><th>1</th><td>1</td><td>old</td></tr><tr><th>2</th><td>2</td><td>young</td></tr><tr><th>3</th><td>3</td><td>young</td></tr><tr><th>4</th><td>4</td><td>old</td></tr></tbody></table>"
      ],
      "text/latex": [
       "\\begin{tabular}{r|cc}\n",
       "\t& id & y\\\\\n",
       "\t\\hline\n",
       "\t1 & 1 & old \\\\\n",
       "\t2 & 2 & young \\\\\n",
       "\t3 & 3 & young \\\\\n",
       "\t4 & 4 & old \\\\\n",
       "\\end{tabular}\n"
      ],
      "text/plain": [
       "4×2 DataFrame\n",
       "│ Row │ id    │ y            │\n",
       "│     │ \u001b[90mInt64\u001b[39m │ \u001b[90mCategorical…\u001b[39m │\n",
       "├─────┼───────┼──────────────┤\n",
       "│ 1   │ 1     │ old          │\n",
       "│ 2   │ 2     │ young        │\n",
       "│ 3   │ 3     │ young        │\n",
       "│ 4   │ 4     │ old          │"
      ]
     },
     "execution_count": 14,
     "metadata": {},
     "output_type": "execute_result"
    }
   ],
   "source": [
    "using CategoricalArrays\n",
    "id = [1, 2, 3, 4]\n",
    "y = [\"old\", \"young\", \"young\", \"old\"]\n",
    "y = CategoricalArray(y)\n",
    "df = DataFrame(id=id, y=y)"
   ]
  },
  {
   "cell_type": "code",
   "execution_count": 15,
   "metadata": {
    "hide-output": false
   },
   "outputs": [
    {
     "data": {
      "text/plain": [
       "2-element Array{String,1}:\n",
       " \"old\"  \n",
       " \"young\""
      ]
     },
     "execution_count": 15,
     "metadata": {},
     "output_type": "execute_result"
    }
   ],
   "source": [
    "levels(df.y)"
   ]
  },
  {
   "cell_type": "markdown",
   "metadata": {},
   "source": [
    "### Visualization, Querying, and Plots\n",
    "\n",
    "The `DataFrame` (and similar types that fulfill a standard generic interface) can fit into a variety of packages\n",
    "\n",
    "One set of them is the [QueryVerse](https://github.com/queryverse)\n",
    "\n",
    "**Note:** The QueryVerse, in the same spirit as R’s tidyverse, makes heavy use of the pipeline syntax `|>`"
   ]
  },
  {
   "cell_type": "code",
   "execution_count": 16,
   "metadata": {
    "hide-output": false
   },
   "outputs": [
    {
     "name": "stdout",
     "output_type": "stream",
     "text": [
      "g(f(x)) = 2.1972245773362196\n",
      "(x |> f) |> g = 2.1972245773362196\n"
     ]
    }
   ],
   "source": [
    "x = 3.0\n",
    "f(x) = x^2\n",
    "g(x) = log(x)\n",
    "\n",
    "@show g(f(x))\n",
    "@show x |> f |> g; # pipes nest function calls"
   ]
  },
  {
   "cell_type": "markdown",
   "metadata": {},
   "source": [
    "To give an example directly from the source of the LINQ inspired [Query.jl](http://www.queryverse.org/Query.jl/stable/)"
   ]
  },
  {
   "cell_type": "code",
   "execution_count": 17,
   "metadata": {
    "hide-output": false
   },
   "outputs": [
    {
     "data": {
      "text/html": [
       "<table class=\"data-frame\"><thead><tr><th></th><th>name</th><th>children</th></tr><tr><th></th><th>String</th><th>Int64</th></tr></thead><tbody><p>1 rows × 2 columns</p><tr><th>1</th><td>Kirk</td><td>2</td></tr></tbody></table>"
      ],
      "text/latex": [
       "\\begin{tabular}{r|cc}\n",
       "\t& name & children\\\\\n",
       "\t\\hline\n",
       "\t1 & Kirk & 2 \\\\\n",
       "\\end{tabular}\n"
      ],
      "text/plain": [
       "1×2 DataFrame\n",
       "│ Row │ name   │ children │\n",
       "│     │ \u001b[90mString\u001b[39m │ \u001b[90mInt64\u001b[39m    │\n",
       "├─────┼────────┼──────────┤\n",
       "│ 1   │ Kirk   │ 2        │"
      ]
     },
     "execution_count": 17,
     "metadata": {},
     "output_type": "execute_result"
    }
   ],
   "source": [
    "using Query\n",
    "\n",
    "df = DataFrame(name=[\"John\", \"Sally\", \"Kirk\"], age=[23., 42., 59.], children=[3,5,2])\n",
    "\n",
    "x = @from i in df begin\n",
    "    @where i.age>50\n",
    "    @select {i.name, i.children}\n",
    "    @collect DataFrame\n",
    "end"
   ]
  },
  {
   "cell_type": "markdown",
   "metadata": {},
   "source": [
    "While it is possible to just use the `Plots.jl` library, there may be better options for displaying tabular data – such as [VegaLite.jl](http://fredo-dedup.github.io/VegaLite.jl/latest/)"
   ]
  },
  {
   "cell_type": "code",
   "execution_count": 18,
   "metadata": {
    "hide-output": false
   },
   "outputs": [
    {
     "data": {
      "application/vnd.vegalite.v2+json": {
       "data": {
        "values": [
         {
          "PetalLength": 1.4,
          "PetalWidth": 0.2,
          "SepalLength": 5.1,
          "SepalWidth": 3.5,
          "Species": "setosa"
         },
         {
          "PetalLength": 1.4,
          "PetalWidth": 0.2,
          "SepalLength": 4.9,
          "SepalWidth": 3.0,
          "Species": "setosa"
         },
         {
          "PetalLength": 1.3,
          "PetalWidth": 0.2,
          "SepalLength": 4.7,
          "SepalWidth": 3.2,
          "Species": "setosa"
         },
         {
          "PetalLength": 1.5,
          "PetalWidth": 0.2,
          "SepalLength": 4.6,
          "SepalWidth": 3.1,
          "Species": "setosa"
         },
         {
          "PetalLength": 1.4,
          "PetalWidth": 0.2,
          "SepalLength": 5.0,
          "SepalWidth": 3.6,
          "Species": "setosa"
         },
         {
          "PetalLength": 1.7,
          "PetalWidth": 0.4,
          "SepalLength": 5.4,
          "SepalWidth": 3.9,
          "Species": "setosa"
         },
         {
          "PetalLength": 1.4,
          "PetalWidth": 0.3,
          "SepalLength": 4.6,
          "SepalWidth": 3.4,
          "Species": "setosa"
         },
         {
          "PetalLength": 1.5,
          "PetalWidth": 0.2,
          "SepalLength": 5.0,
          "SepalWidth": 3.4,
          "Species": "setosa"
         },
         {
          "PetalLength": 1.4,
          "PetalWidth": 0.2,
          "SepalLength": 4.4,
          "SepalWidth": 2.9,
          "Species": "setosa"
         },
         {
          "PetalLength": 1.5,
          "PetalWidth": 0.1,
          "SepalLength": 4.9,
          "SepalWidth": 3.1,
          "Species": "setosa"
         },
         {
          "PetalLength": 1.5,
          "PetalWidth": 0.2,
          "SepalLength": 5.4,
          "SepalWidth": 3.7,
          "Species": "setosa"
         },
         {
          "PetalLength": 1.6,
          "PetalWidth": 0.2,
          "SepalLength": 4.8,
          "SepalWidth": 3.4,
          "Species": "setosa"
         },
         {
          "PetalLength": 1.4,
          "PetalWidth": 0.1,
          "SepalLength": 4.8,
          "SepalWidth": 3.0,
          "Species": "setosa"
         },
         {
          "PetalLength": 1.1,
          "PetalWidth": 0.1,
          "SepalLength": 4.3,
          "SepalWidth": 3.0,
          "Species": "setosa"
         },
         {
          "PetalLength": 1.2,
          "PetalWidth": 0.2,
          "SepalLength": 5.8,
          "SepalWidth": 4.0,
          "Species": "setosa"
         },
         {
          "PetalLength": 1.5,
          "PetalWidth": 0.4,
          "SepalLength": 5.7,
          "SepalWidth": 4.4,
          "Species": "setosa"
         },
         {
          "PetalLength": 1.3,
          "PetalWidth": 0.4,
          "SepalLength": 5.4,
          "SepalWidth": 3.9,
          "Species": "setosa"
         },
         {
          "PetalLength": 1.4,
          "PetalWidth": 0.3,
          "SepalLength": 5.1,
          "SepalWidth": 3.5,
          "Species": "setosa"
         },
         {
          "PetalLength": 1.7,
          "PetalWidth": 0.3,
          "SepalLength": 5.7,
          "SepalWidth": 3.8,
          "Species": "setosa"
         },
         {
          "PetalLength": 1.5,
          "PetalWidth": 0.3,
          "SepalLength": 5.1,
          "SepalWidth": 3.8,
          "Species": "setosa"
         },
         {
          "PetalLength": 1.7,
          "PetalWidth": 0.2,
          "SepalLength": 5.4,
          "SepalWidth": 3.4,
          "Species": "setosa"
         },
         {
          "PetalLength": 1.5,
          "PetalWidth": 0.4,
          "SepalLength": 5.1,
          "SepalWidth": 3.7,
          "Species": "setosa"
         },
         {
          "PetalLength": 1.0,
          "PetalWidth": 0.2,
          "SepalLength": 4.6,
          "SepalWidth": 3.6,
          "Species": "setosa"
         },
         {
          "PetalLength": 1.7,
          "PetalWidth": 0.5,
          "SepalLength": 5.1,
          "SepalWidth": 3.3,
          "Species": "setosa"
         },
         {
          "PetalLength": 1.9,
          "PetalWidth": 0.2,
          "SepalLength": 4.8,
          "SepalWidth": 3.4,
          "Species": "setosa"
         },
         {
          "PetalLength": 1.6,
          "PetalWidth": 0.2,
          "SepalLength": 5.0,
          "SepalWidth": 3.0,
          "Species": "setosa"
         },
         {
          "PetalLength": 1.6,
          "PetalWidth": 0.4,
          "SepalLength": 5.0,
          "SepalWidth": 3.4,
          "Species": "setosa"
         },
         {
          "PetalLength": 1.5,
          "PetalWidth": 0.2,
          "SepalLength": 5.2,
          "SepalWidth": 3.5,
          "Species": "setosa"
         },
         {
          "PetalLength": 1.4,
          "PetalWidth": 0.2,
          "SepalLength": 5.2,
          "SepalWidth": 3.4,
          "Species": "setosa"
         },
         {
          "PetalLength": 1.6,
          "PetalWidth": 0.2,
          "SepalLength": 4.7,
          "SepalWidth": 3.2,
          "Species": "setosa"
         },
         {
          "PetalLength": 1.6,
          "PetalWidth": 0.2,
          "SepalLength": 4.8,
          "SepalWidth": 3.1,
          "Species": "setosa"
         },
         {
          "PetalLength": 1.5,
          "PetalWidth": 0.4,
          "SepalLength": 5.4,
          "SepalWidth": 3.4,
          "Species": "setosa"
         },
         {
          "PetalLength": 1.5,
          "PetalWidth": 0.1,
          "SepalLength": 5.2,
          "SepalWidth": 4.1,
          "Species": "setosa"
         },
         {
          "PetalLength": 1.4,
          "PetalWidth": 0.2,
          "SepalLength": 5.5,
          "SepalWidth": 4.2,
          "Species": "setosa"
         },
         {
          "PetalLength": 1.5,
          "PetalWidth": 0.2,
          "SepalLength": 4.9,
          "SepalWidth": 3.1,
          "Species": "setosa"
         },
         {
          "PetalLength": 1.2,
          "PetalWidth": 0.2,
          "SepalLength": 5.0,
          "SepalWidth": 3.2,
          "Species": "setosa"
         },
         {
          "PetalLength": 1.3,
          "PetalWidth": 0.2,
          "SepalLength": 5.5,
          "SepalWidth": 3.5,
          "Species": "setosa"
         },
         {
          "PetalLength": 1.4,
          "PetalWidth": 0.1,
          "SepalLength": 4.9,
          "SepalWidth": 3.6,
          "Species": "setosa"
         },
         {
          "PetalLength": 1.3,
          "PetalWidth": 0.2,
          "SepalLength": 4.4,
          "SepalWidth": 3.0,
          "Species": "setosa"
         },
         {
          "PetalLength": 1.5,
          "PetalWidth": 0.2,
          "SepalLength": 5.1,
          "SepalWidth": 3.4,
          "Species": "setosa"
         },
         {
          "PetalLength": 1.3,
          "PetalWidth": 0.3,
          "SepalLength": 5.0,
          "SepalWidth": 3.5,
          "Species": "setosa"
         },
         {
          "PetalLength": 1.3,
          "PetalWidth": 0.3,
          "SepalLength": 4.5,
          "SepalWidth": 2.3,
          "Species": "setosa"
         },
         {
          "PetalLength": 1.3,
          "PetalWidth": 0.2,
          "SepalLength": 4.4,
          "SepalWidth": 3.2,
          "Species": "setosa"
         },
         {
          "PetalLength": 1.6,
          "PetalWidth": 0.6,
          "SepalLength": 5.0,
          "SepalWidth": 3.5,
          "Species": "setosa"
         },
         {
          "PetalLength": 1.9,
          "PetalWidth": 0.4,
          "SepalLength": 5.1,
          "SepalWidth": 3.8,
          "Species": "setosa"
         },
         {
          "PetalLength": 1.4,
          "PetalWidth": 0.3,
          "SepalLength": 4.8,
          "SepalWidth": 3.0,
          "Species": "setosa"
         },
         {
          "PetalLength": 1.6,
          "PetalWidth": 0.2,
          "SepalLength": 5.1,
          "SepalWidth": 3.8,
          "Species": "setosa"
         },
         {
          "PetalLength": 1.4,
          "PetalWidth": 0.2,
          "SepalLength": 4.6,
          "SepalWidth": 3.2,
          "Species": "setosa"
         },
         {
          "PetalLength": 1.5,
          "PetalWidth": 0.2,
          "SepalLength": 5.3,
          "SepalWidth": 3.7,
          "Species": "setosa"
         },
         {
          "PetalLength": 1.4,
          "PetalWidth": 0.2,
          "SepalLength": 5.0,
          "SepalWidth": 3.3,
          "Species": "setosa"
         },
         {
          "PetalLength": 4.7,
          "PetalWidth": 1.4,
          "SepalLength": 7.0,
          "SepalWidth": 3.2,
          "Species": "versicolor"
         },
         {
          "PetalLength": 4.5,
          "PetalWidth": 1.5,
          "SepalLength": 6.4,
          "SepalWidth": 3.2,
          "Species": "versicolor"
         },
         {
          "PetalLength": 4.9,
          "PetalWidth": 1.5,
          "SepalLength": 6.9,
          "SepalWidth": 3.1,
          "Species": "versicolor"
         },
         {
          "PetalLength": 4.0,
          "PetalWidth": 1.3,
          "SepalLength": 5.5,
          "SepalWidth": 2.3,
          "Species": "versicolor"
         },
         {
          "PetalLength": 4.6,
          "PetalWidth": 1.5,
          "SepalLength": 6.5,
          "SepalWidth": 2.8,
          "Species": "versicolor"
         },
         {
          "PetalLength": 4.5,
          "PetalWidth": 1.3,
          "SepalLength": 5.7,
          "SepalWidth": 2.8,
          "Species": "versicolor"
         },
         {
          "PetalLength": 4.7,
          "PetalWidth": 1.6,
          "SepalLength": 6.3,
          "SepalWidth": 3.3,
          "Species": "versicolor"
         },
         {
          "PetalLength": 3.3,
          "PetalWidth": 1.0,
          "SepalLength": 4.9,
          "SepalWidth": 2.4,
          "Species": "versicolor"
         },
         {
          "PetalLength": 4.6,
          "PetalWidth": 1.3,
          "SepalLength": 6.6,
          "SepalWidth": 2.9,
          "Species": "versicolor"
         },
         {
          "PetalLength": 3.9,
          "PetalWidth": 1.4,
          "SepalLength": 5.2,
          "SepalWidth": 2.7,
          "Species": "versicolor"
         },
         {
          "PetalLength": 3.5,
          "PetalWidth": 1.0,
          "SepalLength": 5.0,
          "SepalWidth": 2.0,
          "Species": "versicolor"
         },
         {
          "PetalLength": 4.2,
          "PetalWidth": 1.5,
          "SepalLength": 5.9,
          "SepalWidth": 3.0,
          "Species": "versicolor"
         },
         {
          "PetalLength": 4.0,
          "PetalWidth": 1.0,
          "SepalLength": 6.0,
          "SepalWidth": 2.2,
          "Species": "versicolor"
         },
         {
          "PetalLength": 4.7,
          "PetalWidth": 1.4,
          "SepalLength": 6.1,
          "SepalWidth": 2.9,
          "Species": "versicolor"
         },
         {
          "PetalLength": 3.6,
          "PetalWidth": 1.3,
          "SepalLength": 5.6,
          "SepalWidth": 2.9,
          "Species": "versicolor"
         },
         {
          "PetalLength": 4.4,
          "PetalWidth": 1.4,
          "SepalLength": 6.7,
          "SepalWidth": 3.1,
          "Species": "versicolor"
         },
         {
          "PetalLength": 4.5,
          "PetalWidth": 1.5,
          "SepalLength": 5.6,
          "SepalWidth": 3.0,
          "Species": "versicolor"
         },
         {
          "PetalLength": 4.1,
          "PetalWidth": 1.0,
          "SepalLength": 5.8,
          "SepalWidth": 2.7,
          "Species": "versicolor"
         },
         {
          "PetalLength": 4.5,
          "PetalWidth": 1.5,
          "SepalLength": 6.2,
          "SepalWidth": 2.2,
          "Species": "versicolor"
         },
         {
          "PetalLength": 3.9,
          "PetalWidth": 1.1,
          "SepalLength": 5.6,
          "SepalWidth": 2.5,
          "Species": "versicolor"
         },
         {
          "PetalLength": 4.8,
          "PetalWidth": 1.8,
          "SepalLength": 5.9,
          "SepalWidth": 3.2,
          "Species": "versicolor"
         },
         {
          "PetalLength": 4.0,
          "PetalWidth": 1.3,
          "SepalLength": 6.1,
          "SepalWidth": 2.8,
          "Species": "versicolor"
         },
         {
          "PetalLength": 4.9,
          "PetalWidth": 1.5,
          "SepalLength": 6.3,
          "SepalWidth": 2.5,
          "Species": "versicolor"
         },
         {
          "PetalLength": 4.7,
          "PetalWidth": 1.2,
          "SepalLength": 6.1,
          "SepalWidth": 2.8,
          "Species": "versicolor"
         },
         {
          "PetalLength": 4.3,
          "PetalWidth": 1.3,
          "SepalLength": 6.4,
          "SepalWidth": 2.9,
          "Species": "versicolor"
         },
         {
          "PetalLength": 4.4,
          "PetalWidth": 1.4,
          "SepalLength": 6.6,
          "SepalWidth": 3.0,
          "Species": "versicolor"
         },
         {
          "PetalLength": 4.8,
          "PetalWidth": 1.4,
          "SepalLength": 6.8,
          "SepalWidth": 2.8,
          "Species": "versicolor"
         },
         {
          "PetalLength": 5.0,
          "PetalWidth": 1.7,
          "SepalLength": 6.7,
          "SepalWidth": 3.0,
          "Species": "versicolor"
         },
         {
          "PetalLength": 4.5,
          "PetalWidth": 1.5,
          "SepalLength": 6.0,
          "SepalWidth": 2.9,
          "Species": "versicolor"
         },
         {
          "PetalLength": 3.5,
          "PetalWidth": 1.0,
          "SepalLength": 5.7,
          "SepalWidth": 2.6,
          "Species": "versicolor"
         },
         {
          "PetalLength": 3.8,
          "PetalWidth": 1.1,
          "SepalLength": 5.5,
          "SepalWidth": 2.4,
          "Species": "versicolor"
         },
         {
          "PetalLength": 3.7,
          "PetalWidth": 1.0,
          "SepalLength": 5.5,
          "SepalWidth": 2.4,
          "Species": "versicolor"
         },
         {
          "PetalLength": 3.9,
          "PetalWidth": 1.2,
          "SepalLength": 5.8,
          "SepalWidth": 2.7,
          "Species": "versicolor"
         },
         {
          "PetalLength": 5.1,
          "PetalWidth": 1.6,
          "SepalLength": 6.0,
          "SepalWidth": 2.7,
          "Species": "versicolor"
         },
         {
          "PetalLength": 4.5,
          "PetalWidth": 1.5,
          "SepalLength": 5.4,
          "SepalWidth": 3.0,
          "Species": "versicolor"
         },
         {
          "PetalLength": 4.5,
          "PetalWidth": 1.6,
          "SepalLength": 6.0,
          "SepalWidth": 3.4,
          "Species": "versicolor"
         },
         {
          "PetalLength": 4.7,
          "PetalWidth": 1.5,
          "SepalLength": 6.7,
          "SepalWidth": 3.1,
          "Species": "versicolor"
         },
         {
          "PetalLength": 4.4,
          "PetalWidth": 1.3,
          "SepalLength": 6.3,
          "SepalWidth": 2.3,
          "Species": "versicolor"
         },
         {
          "PetalLength": 4.1,
          "PetalWidth": 1.3,
          "SepalLength": 5.6,
          "SepalWidth": 3.0,
          "Species": "versicolor"
         },
         {
          "PetalLength": 4.0,
          "PetalWidth": 1.3,
          "SepalLength": 5.5,
          "SepalWidth": 2.5,
          "Species": "versicolor"
         },
         {
          "PetalLength": 4.4,
          "PetalWidth": 1.2,
          "SepalLength": 5.5,
          "SepalWidth": 2.6,
          "Species": "versicolor"
         },
         {
          "PetalLength": 4.6,
          "PetalWidth": 1.4,
          "SepalLength": 6.1,
          "SepalWidth": 3.0,
          "Species": "versicolor"
         },
         {
          "PetalLength": 4.0,
          "PetalWidth": 1.2,
          "SepalLength": 5.8,
          "SepalWidth": 2.6,
          "Species": "versicolor"
         },
         {
          "PetalLength": 3.3,
          "PetalWidth": 1.0,
          "SepalLength": 5.0,
          "SepalWidth": 2.3,
          "Species": "versicolor"
         },
         {
          "PetalLength": 4.2,
          "PetalWidth": 1.3,
          "SepalLength": 5.6,
          "SepalWidth": 2.7,
          "Species": "versicolor"
         },
         {
          "PetalLength": 4.2,
          "PetalWidth": 1.2,
          "SepalLength": 5.7,
          "SepalWidth": 3.0,
          "Species": "versicolor"
         },
         {
          "PetalLength": 4.2,
          "PetalWidth": 1.3,
          "SepalLength": 5.7,
          "SepalWidth": 2.9,
          "Species": "versicolor"
         },
         {
          "PetalLength": 4.3,
          "PetalWidth": 1.3,
          "SepalLength": 6.2,
          "SepalWidth": 2.9,
          "Species": "versicolor"
         },
         {
          "PetalLength": 3.0,
          "PetalWidth": 1.1,
          "SepalLength": 5.1,
          "SepalWidth": 2.5,
          "Species": "versicolor"
         },
         {
          "PetalLength": 4.1,
          "PetalWidth": 1.3,
          "SepalLength": 5.7,
          "SepalWidth": 2.8,
          "Species": "versicolor"
         },
         {
          "PetalLength": 6.0,
          "PetalWidth": 2.5,
          "SepalLength": 6.3,
          "SepalWidth": 3.3,
          "Species": "virginica"
         },
         {
          "PetalLength": 5.1,
          "PetalWidth": 1.9,
          "SepalLength": 5.8,
          "SepalWidth": 2.7,
          "Species": "virginica"
         },
         {
          "PetalLength": 5.9,
          "PetalWidth": 2.1,
          "SepalLength": 7.1,
          "SepalWidth": 3.0,
          "Species": "virginica"
         },
         {
          "PetalLength": 5.6,
          "PetalWidth": 1.8,
          "SepalLength": 6.3,
          "SepalWidth": 2.9,
          "Species": "virginica"
         },
         {
          "PetalLength": 5.8,
          "PetalWidth": 2.2,
          "SepalLength": 6.5,
          "SepalWidth": 3.0,
          "Species": "virginica"
         },
         {
          "PetalLength": 6.6,
          "PetalWidth": 2.1,
          "SepalLength": 7.6,
          "SepalWidth": 3.0,
          "Species": "virginica"
         },
         {
          "PetalLength": 4.5,
          "PetalWidth": 1.7,
          "SepalLength": 4.9,
          "SepalWidth": 2.5,
          "Species": "virginica"
         },
         {
          "PetalLength": 6.3,
          "PetalWidth": 1.8,
          "SepalLength": 7.3,
          "SepalWidth": 2.9,
          "Species": "virginica"
         },
         {
          "PetalLength": 5.8,
          "PetalWidth": 1.8,
          "SepalLength": 6.7,
          "SepalWidth": 2.5,
          "Species": "virginica"
         },
         {
          "PetalLength": 6.1,
          "PetalWidth": 2.5,
          "SepalLength": 7.2,
          "SepalWidth": 3.6,
          "Species": "virginica"
         },
         {
          "PetalLength": 5.1,
          "PetalWidth": 2.0,
          "SepalLength": 6.5,
          "SepalWidth": 3.2,
          "Species": "virginica"
         },
         {
          "PetalLength": 5.3,
          "PetalWidth": 1.9,
          "SepalLength": 6.4,
          "SepalWidth": 2.7,
          "Species": "virginica"
         },
         {
          "PetalLength": 5.5,
          "PetalWidth": 2.1,
          "SepalLength": 6.8,
          "SepalWidth": 3.0,
          "Species": "virginica"
         },
         {
          "PetalLength": 5.0,
          "PetalWidth": 2.0,
          "SepalLength": 5.7,
          "SepalWidth": 2.5,
          "Species": "virginica"
         },
         {
          "PetalLength": 5.1,
          "PetalWidth": 2.4,
          "SepalLength": 5.8,
          "SepalWidth": 2.8,
          "Species": "virginica"
         },
         {
          "PetalLength": 5.3,
          "PetalWidth": 2.3,
          "SepalLength": 6.4,
          "SepalWidth": 3.2,
          "Species": "virginica"
         },
         {
          "PetalLength": 5.5,
          "PetalWidth": 1.8,
          "SepalLength": 6.5,
          "SepalWidth": 3.0,
          "Species": "virginica"
         },
         {
          "PetalLength": 6.7,
          "PetalWidth": 2.2,
          "SepalLength": 7.7,
          "SepalWidth": 3.8,
          "Species": "virginica"
         },
         {
          "PetalLength": 6.9,
          "PetalWidth": 2.3,
          "SepalLength": 7.7,
          "SepalWidth": 2.6,
          "Species": "virginica"
         },
         {
          "PetalLength": 5.0,
          "PetalWidth": 1.5,
          "SepalLength": 6.0,
          "SepalWidth": 2.2,
          "Species": "virginica"
         },
         {
          "PetalLength": 5.7,
          "PetalWidth": 2.3,
          "SepalLength": 6.9,
          "SepalWidth": 3.2,
          "Species": "virginica"
         },
         {
          "PetalLength": 4.9,
          "PetalWidth": 2.0,
          "SepalLength": 5.6,
          "SepalWidth": 2.8,
          "Species": "virginica"
         },
         {
          "PetalLength": 6.7,
          "PetalWidth": 2.0,
          "SepalLength": 7.7,
          "SepalWidth": 2.8,
          "Species": "virginica"
         },
         {
          "PetalLength": 4.9,
          "PetalWidth": 1.8,
          "SepalLength": 6.3,
          "SepalWidth": 2.7,
          "Species": "virginica"
         },
         {
          "PetalLength": 5.7,
          "PetalWidth": 2.1,
          "SepalLength": 6.7,
          "SepalWidth": 3.3,
          "Species": "virginica"
         },
         {
          "PetalLength": 6.0,
          "PetalWidth": 1.8,
          "SepalLength": 7.2,
          "SepalWidth": 3.2,
          "Species": "virginica"
         },
         {
          "PetalLength": 4.8,
          "PetalWidth": 1.8,
          "SepalLength": 6.2,
          "SepalWidth": 2.8,
          "Species": "virginica"
         },
         {
          "PetalLength": 4.9,
          "PetalWidth": 1.8,
          "SepalLength": 6.1,
          "SepalWidth": 3.0,
          "Species": "virginica"
         },
         {
          "PetalLength": 5.6,
          "PetalWidth": 2.1,
          "SepalLength": 6.4,
          "SepalWidth": 2.8,
          "Species": "virginica"
         },
         {
          "PetalLength": 5.8,
          "PetalWidth": 1.6,
          "SepalLength": 7.2,
          "SepalWidth": 3.0,
          "Species": "virginica"
         },
         {
          "PetalLength": 6.1,
          "PetalWidth": 1.9,
          "SepalLength": 7.4,
          "SepalWidth": 2.8,
          "Species": "virginica"
         },
         {
          "PetalLength": 6.4,
          "PetalWidth": 2.0,
          "SepalLength": 7.9,
          "SepalWidth": 3.8,
          "Species": "virginica"
         },
         {
          "PetalLength": 5.6,
          "PetalWidth": 2.2,
          "SepalLength": 6.4,
          "SepalWidth": 2.8,
          "Species": "virginica"
         },
         {
          "PetalLength": 5.1,
          "PetalWidth": 1.5,
          "SepalLength": 6.3,
          "SepalWidth": 2.8,
          "Species": "virginica"
         },
         {
          "PetalLength": 5.6,
          "PetalWidth": 1.4,
          "SepalLength": 6.1,
          "SepalWidth": 2.6,
          "Species": "virginica"
         },
         {
          "PetalLength": 6.1,
          "PetalWidth": 2.3,
          "SepalLength": 7.7,
          "SepalWidth": 3.0,
          "Species": "virginica"
         },
         {
          "PetalLength": 5.6,
          "PetalWidth": 2.4,
          "SepalLength": 6.3,
          "SepalWidth": 3.4,
          "Species": "virginica"
         },
         {
          "PetalLength": 5.5,
          "PetalWidth": 1.8,
          "SepalLength": 6.4,
          "SepalWidth": 3.1,
          "Species": "virginica"
         },
         {
          "PetalLength": 4.8,
          "PetalWidth": 1.8,
          "SepalLength": 6.0,
          "SepalWidth": 3.0,
          "Species": "virginica"
         },
         {
          "PetalLength": 5.4,
          "PetalWidth": 2.1,
          "SepalLength": 6.9,
          "SepalWidth": 3.1,
          "Species": "virginica"
         },
         {
          "PetalLength": 5.6,
          "PetalWidth": 2.4,
          "SepalLength": 6.7,
          "SepalWidth": 3.1,
          "Species": "virginica"
         },
         {
          "PetalLength": 5.1,
          "PetalWidth": 2.3,
          "SepalLength": 6.9,
          "SepalWidth": 3.1,
          "Species": "virginica"
         },
         {
          "PetalLength": 5.1,
          "PetalWidth": 1.9,
          "SepalLength": 5.8,
          "SepalWidth": 2.7,
          "Species": "virginica"
         },
         {
          "PetalLength": 5.9,
          "PetalWidth": 2.3,
          "SepalLength": 6.8,
          "SepalWidth": 3.2,
          "Species": "virginica"
         },
         {
          "PetalLength": 5.7,
          "PetalWidth": 2.5,
          "SepalLength": 6.7,
          "SepalWidth": 3.3,
          "Species": "virginica"
         },
         {
          "PetalLength": 5.2,
          "PetalWidth": 2.3,
          "SepalLength": 6.7,
          "SepalWidth": 3.0,
          "Species": "virginica"
         },
         {
          "PetalLength": 5.0,
          "PetalWidth": 1.9,
          "SepalLength": 6.3,
          "SepalWidth": 2.5,
          "Species": "virginica"
         },
         {
          "PetalLength": 5.2,
          "PetalWidth": 2.0,
          "SepalLength": 6.5,
          "SepalWidth": 3.0,
          "Species": "virginica"
         },
         {
          "PetalLength": 5.4,
          "PetalWidth": 2.3,
          "SepalLength": 6.2,
          "SepalWidth": 3.4,
          "Species": "virginica"
         },
         {
          "PetalLength": 5.1,
          "PetalWidth": 1.8,
          "SepalLength": 5.9,
          "SepalWidth": 3.0,
          "Species": "virginica"
         }
        ]
       },
       "encoding": {
        "color": {
         "field": "Species",
         "type": "nominal"
        },
        "x": {
         "field": "PetalLength",
         "type": "quantitative"
        },
        "y": {
         "field": "PetalWidth",
         "type": "quantitative"
        }
       },
       "mark": "point"
      },
      "image/png": "[encoded data removed]",
      "image/svg+xml": [
       "<?xml version=\"1.0\" encoding=\"utf-8\"?>\n",
       "<!DOCTYPE svg PUBLIC \"-//W3C//DTD SVG 1.1//EN\" \"http://www.w3.org/Graphics/SVG/1.1/DTD/svg11.dtd\">\n",
       "<svg class=\"marks\" width=\"374\" height=\"245\" viewBox=\"0 0 374 245\" version=\"1.1\" xmlns=\"http://www.w3.org/2000/svg\" xmlns:xlink=\"http://www.w3.org/1999/xlink\"><g transform=\"translate(54,5)\"><g class=\"mark-group role-frame root\"><g transform=\"translate(0,0)\"><path class=\"background\" d=\"M0.5,0.5h200v200h-200Z\" style=\"fill: none; stroke: #ddd;\"></path><g><g class=\"mark-group role-axis\"><g transform=\"translate(0.5,200.5)\"><path class=\"background\" d=\"M0,0h0v0h0Z\" style=\"pointer-events: none; fill: none;\"></path><g><g class=\"mark-rule role-axis-grid\" style=\"pointer-events: none;\"><line transform=\"translate(0,-200)\" x2=\"0\" y2=\"200\" style=\"fill: none; stroke: #ddd; stroke-width: 1; opacity: 1;\"></line><line transform=\"translate(29,-200)\" x2=\"0\" y2=\"200\" style=\"fill: none; stroke: #ddd; stroke-width: 1; opacity: 1;\"></line><line transform=\"translate(57,-200)\" x2=\"0\" y2=\"200\" style=\"fill: none; stroke: #ddd; stroke-width: 1; opacity: 1;\"></line><line transform=\"translate(86,-200)\" x2=\"0\" y2=\"200\" style=\"fill: none; stroke: #ddd; stroke-width: 1; opacity: 1;\"></line><line transform=\"translate(114,-200)\" x2=\"0\" y2=\"200\" style=\"fill: none; stroke: #ddd; stroke-width: 1; opacity: 1;\"></line><line transform=\"translate(143,-200)\" x2=\"0\" y2=\"200\" style=\"fill: none; stroke: #ddd; stroke-width: 1; opacity: 1;\"></line><line transform=\"translate(171,-200)\" x2=\"0\" y2=\"200\" style=\"fill: none; stroke: #ddd; stroke-width: 1; opacity: 1;\"></line><line transform=\"translate(200,-200)\" x2=\"0\" y2=\"200\" style=\"fill: none; stroke: #ddd; stroke-width: 1; opacity: 1;\"></line></g></g></g></g><g class=\"mark-group role-axis\"><g transform=\"translate(0.5,0.5)\"><path class=\"background\" d=\"M0,0h0v0h0Z\" style=\"pointer-events: none; fill: none;\"></path><g><g class=\"mark-rule role-axis-grid\" style=\"pointer-events: none;\"><line transform=\"translate(0,200)\" x2=\"200\" y2=\"0\" style=\"fill: none; stroke: #ddd; stroke-width: 1; opacity: 1;\"></line><line transform=\"translate(0,162)\" x2=\"200\" y2=\"0\" style=\"fill: none; stroke: #ddd; stroke-width: 1; opacity: 1;\"></line><line transform=\"translate(0,123)\" x2=\"200\" y2=\"0\" style=\"fill: none; stroke: #ddd; stroke-width: 1; opacity: 1;\"></line><line transform=\"translate(0,85)\" x2=\"200\" y2=\"0\" style=\"fill: none; stroke: #ddd; stroke-width: 1; opacity: 1;\"></line><line transform=\"translate(0,46)\" x2=\"200\" y2=\"0\" style=\"fill: none; stroke: #ddd; stroke-width: 1; opacity: 1;\"></line><line transform=\"translate(0,8)\" x2=\"200\" y2=\"0\" style=\"fill: none; stroke: #ddd; stroke-width: 1; opacity: 1;\"></line></g></g></g></g><g class=\"mark-symbol role-mark marks\"><path transform=\"translate(40,184.6153846153846)\" d=\"M2.7386127875258306,0A2.7386127875258306,2.7386127875258306,0,1,1,-2.7386127875258306,0A2.7386127875258306,2.7386127875258306,0,1,1,2.7386127875258306,0\" style=\"fill: none; stroke: #4c78a8; stroke-width: 2; opacity: 0.7;\"></path><path transform=\"translate(40,184.6153846153846)\" d=\"M2.7386127875258306,0A2.7386127875258306,2.7386127875258306,0,1,1,-2.7386127875258306,0A2.7386127875258306,2.7386127875258306,0,1,1,2.7386127875258306,0\" style=\"fill: none; stroke: #4c78a8; stroke-width: 2; opacity: 0.7;\"></path><path transform=\"translate(37.142857142857146,184.6153846153846)\" d=\"M2.7386127875258306,0A2.7386127875258306,2.7386127875258306,0,1,1,-2.7386127875258306,0A2.7386127875258306,2.7386127875258306,0,1,1,2.7386127875258306,0\" style=\"fill: none; stroke: #4c78a8; stroke-width: 2; opacity: 0.7;\"></path><path transform=\"translate(42.857142857142854,184.6153846153846)\" d=\"M2.7386127875258306,0A2.7386127875258306,2.7386127875258306,0,1,1,-2.7386127875258306,0A2.7386127875258306,2.7386127875258306,0,1,1,2.7386127875258306,0\" style=\"fill: none; stroke: #4c78a8; stroke-width: 2; opacity: 0.7;\"></path><path transform=\"translate(40,184.6153846153846)\" d=\"M2.7386127875258306,0A2.7386127875258306,2.7386127875258306,0,1,1,-2.7386127875258306,0A2.7386127875258306,2.7386127875258306,0,1,1,2.7386127875258306,0\" style=\"fill: none; stroke: #4c78a8; stroke-width: 2; opacity: 0.7;\"></path><path transform=\"translate(48.57142857142857,169.23076923076923)\" d=\"M2.7386127875258306,0A2.7386127875258306,2.7386127875258306,0,1,1,-2.7386127875258306,0A2.7386127875258306,2.7386127875258306,0,1,1,2.7386127875258306,0\" style=\"fill: none; stroke: #4c78a8; stroke-width: 2; opacity: 0.7;\"></path><path transform=\"translate(40,176.92307692307693)\" d=\"M2.7386127875258306,0A2.7386127875258306,2.7386127875258306,0,1,1,-2.7386127875258306,0A2.7386127875258306,2.7386127875258306,0,1,1,2.7386127875258306,0\" style=\"fill: none; stroke: #4c78a8; stroke-width: 2; opacity: 0.7;\"></path><path transform=\"translate(42.857142857142854,184.6153846153846)\" d=\"M2.7386127875258306,0A2.7386127875258306,2.7386127875258306,0,1,1,-2.7386127875258306,0A2.7386127875258306,2.7386127875258306,0,1,1,2.7386127875258306,0\" style=\"fill: none; stroke: #4c78a8; stroke-width: 2; opacity: 0.7;\"></path><path transform=\"translate(40,184.6153846153846)\" d=\"M2.7386127875258306,0A2.7386127875258306,2.7386127875258306,0,1,1,-2.7386127875258306,0A2.7386127875258306,2.7386127875258306,0,1,1,2.7386127875258306,0\" style=\"fill: none; stroke: #4c78a8; stroke-width: 2; opacity: 0.7;\"></path><path transform=\"translate(42.857142857142854,192.30769230769232)\" d=\"M2.7386127875258306,0A2.7386127875258306,2.7386127875258306,0,1,1,-2.7386127875258306,0A2.7386127875258306,2.7386127875258306,0,1,1,2.7386127875258306,0\" style=\"fill: none; stroke: #4c78a8; stroke-width: 2; opacity: 0.7;\"></path><path transform=\"translate(42.857142857142854,184.6153846153846)\" d=\"M2.7386127875258306,0A2.7386127875258306,2.7386127875258306,0,1,1,-2.7386127875258306,0A2.7386127875258306,2.7386127875258306,0,1,1,2.7386127875258306,0\" style=\"fill: none; stroke: #4c78a8; stroke-width: 2; opacity: 0.7;\"></path><path transform=\"translate(45.714285714285715,184.6153846153846)\" d=\"M2.7386127875258306,0A2.7386127875258306,2.7386127875258306,0,1,1,-2.7386127875258306,0A2.7386127875258306,2.7386127875258306,0,1,1,2.7386127875258306,0\" style=\"fill: none; stroke: #4c78a8; stroke-width: 2; opacity: 0.7;\"></path><path transform=\"translate(40,192.30769230769232)\" d=\"M2.7386127875258306,0A2.7386127875258306,2.7386127875258306,0,1,1,-2.7386127875258306,0A2.7386127875258306,2.7386127875258306,0,1,1,2.7386127875258306,0\" style=\"fill: none; stroke: #4c78a8; stroke-width: 2; opacity: 0.7;\"></path><path transform=\"translate(31.428571428571434,192.30769230769232)\" d=\"M2.7386127875258306,0A2.7386127875258306,2.7386127875258306,0,1,1,-2.7386127875258306,0A2.7386127875258306,2.7386127875258306,0,1,1,2.7386127875258306,0\" style=\"fill: none; stroke: #4c78a8; stroke-width: 2; opacity: 0.7;\"></path><path transform=\"translate(34.285714285714285,184.6153846153846)\" d=\"M2.7386127875258306,0A2.7386127875258306,2.7386127875258306,0,1,1,-2.7386127875258306,0A2.7386127875258306,2.7386127875258306,0,1,1,2.7386127875258306,0\" style=\"fill: none; stroke: #4c78a8; stroke-width: 2; opacity: 0.7;\"></path><path transform=\"translate(42.857142857142854,169.23076923076923)\" d=\"M2.7386127875258306,0A2.7386127875258306,2.7386127875258306,0,1,1,-2.7386127875258306,0A2.7386127875258306,2.7386127875258306,0,1,1,2.7386127875258306,0\" style=\"fill: none; stroke: #4c78a8; stroke-width: 2; opacity: 0.7;\"></path><path transform=\"translate(37.142857142857146,169.23076923076923)\" d=\"M2.7386127875258306,0A2.7386127875258306,2.7386127875258306,0,1,1,-2.7386127875258306,0A2.7386127875258306,2.7386127875258306,0,1,1,2.7386127875258306,0\" style=\"fill: none; stroke: #4c78a8; stroke-width: 2; opacity: 0.7;\"></path><path transform=\"translate(40,176.92307692307693)\" d=\"M2.7386127875258306,0A2.7386127875258306,2.7386127875258306,0,1,1,-2.7386127875258306,0A2.7386127875258306,2.7386127875258306,0,1,1,2.7386127875258306,0\" style=\"fill: none; stroke: #4c78a8; stroke-width: 2; opacity: 0.7;\"></path><path transform=\"translate(48.57142857142857,176.92307692307693)\" d=\"M2.7386127875258306,0A2.7386127875258306,2.7386127875258306,0,1,1,-2.7386127875258306,0A2.7386127875258306,2.7386127875258306,0,1,1,2.7386127875258306,0\" style=\"fill: none; stroke: #4c78a8; stroke-width: 2; opacity: 0.7;\"></path><path transform=\"translate(42.857142857142854,176.92307692307693)\" d=\"M2.7386127875258306,0A2.7386127875258306,2.7386127875258306,0,1,1,-2.7386127875258306,0A2.7386127875258306,2.7386127875258306,0,1,1,2.7386127875258306,0\" style=\"fill: none; stroke: #4c78a8; stroke-width: 2; opacity: 0.7;\"></path><path transform=\"translate(48.57142857142857,184.6153846153846)\" d=\"M2.7386127875258306,0A2.7386127875258306,2.7386127875258306,0,1,1,-2.7386127875258306,0A2.7386127875258306,2.7386127875258306,0,1,1,2.7386127875258306,0\" style=\"fill: none; stroke: #4c78a8; stroke-width: 2; opacity: 0.7;\"></path><path transform=\"translate(42.857142857142854,169.23076923076923)\" d=\"M2.7386127875258306,0A2.7386127875258306,2.7386127875258306,0,1,1,-2.7386127875258306,0A2.7386127875258306,2.7386127875258306,0,1,1,2.7386127875258306,0\" style=\"fill: none; stroke: #4c78a8; stroke-width: 2; opacity: 0.7;\"></path><path transform=\"translate(28.57142857142857,184.6153846153846)\" d=\"M2.7386127875258306,0A2.7386127875258306,2.7386127875258306,0,1,1,-2.7386127875258306,0A2.7386127875258306,2.7386127875258306,0,1,1,2.7386127875258306,0\" style=\"fill: none; stroke: #4c78a8; stroke-width: 2; opacity: 0.7;\"></path><path transform=\"translate(48.57142857142857,161.53846153846155)\" d=\"M2.7386127875258306,0A2.7386127875258306,2.7386127875258306,0,1,1,-2.7386127875258306,0A2.7386127875258306,2.7386127875258306,0,1,1,2.7386127875258306,0\" style=\"fill: none; stroke: #4c78a8; stroke-width: 2; opacity: 0.7;\"></path><path transform=\"translate(54.285714285714285,184.6153846153846)\" d=\"M2.7386127875258306,0A2.7386127875258306,2.7386127875258306,0,1,1,-2.7386127875258306,0A2.7386127875258306,2.7386127875258306,0,1,1,2.7386127875258306,0\" style=\"fill: none; stroke: #4c78a8; stroke-width: 2; opacity: 0.7;\"></path><path transform=\"translate(45.714285714285715,184.6153846153846)\" d=\"M2.7386127875258306,0A2.7386127875258306,2.7386127875258306,0,1,1,-2.7386127875258306,0A2.7386127875258306,2.7386127875258306,0,1,1,2.7386127875258306,0\" style=\"fill: none; stroke: #4c78a8; stroke-width: 2; opacity: 0.7;\"></path><path transform=\"translate(45.714285714285715,169.23076923076923)\" d=\"M2.7386127875258306,0A2.7386127875258306,2.7386127875258306,0,1,1,-2.7386127875258306,0A2.7386127875258306,2.7386127875258306,0,1,1,2.7386127875258306,0\" style=\"fill: none; stroke: #4c78a8; stroke-width: 2; opacity: 0.7;\"></path><path transform=\"translate(42.857142857142854,184.6153846153846)\" d=\"M2.7386127875258306,0A2.7386127875258306,2.7386127875258306,0,1,1,-2.7386127875258306,0A2.7386127875258306,2.7386127875258306,0,1,1,2.7386127875258306,0\" style=\"fill: none; stroke: #4c78a8; stroke-width: 2; opacity: 0.7;\"></path><path transform=\"translate(40,184.6153846153846)\" d=\"M2.7386127875258306,0A2.7386127875258306,2.7386127875258306,0,1,1,-2.7386127875258306,0A2.7386127875258306,2.7386127875258306,0,1,1,2.7386127875258306,0\" style=\"fill: none; stroke: #4c78a8; stroke-width: 2; opacity: 0.7;\"></path><path transform=\"translate(45.714285714285715,184.6153846153846)\" d=\"M2.7386127875258306,0A2.7386127875258306,2.7386127875258306,0,1,1,-2.7386127875258306,0A2.7386127875258306,2.7386127875258306,0,1,1,2.7386127875258306,0\" style=\"fill: none; stroke: #4c78a8; stroke-width: 2; opacity: 0.7;\"></path><path transform=\"translate(45.714285714285715,184.6153846153846)\" d=\"M2.7386127875258306,0A2.7386127875258306,2.7386127875258306,0,1,1,-2.7386127875258306,0A2.7386127875258306,2.7386127875258306,0,1,1,2.7386127875258306,0\" style=\"fill: none; stroke: #4c78a8; stroke-width: 2; opacity: 0.7;\"></path><path transform=\"translate(42.857142857142854,169.23076923076923)\" d=\"M2.7386127875258306,0A2.7386127875258306,2.7386127875258306,0,1,1,-2.7386127875258306,0A2.7386127875258306,2.7386127875258306,0,1,1,2.7386127875258306,0\" style=\"fill: none; stroke: #4c78a8; stroke-width: 2; opacity: 0.7;\"></path><path transform=\"translate(42.857142857142854,192.30769230769232)\" d=\"M2.7386127875258306,0A2.7386127875258306,2.7386127875258306,0,1,1,-2.7386127875258306,0A2.7386127875258306,2.7386127875258306,0,1,1,2.7386127875258306,0\" style=\"fill: none; stroke: #4c78a8; stroke-width: 2; opacity: 0.7;\"></path><path transform=\"translate(40,184.6153846153846)\" d=\"M2.7386127875258306,0A2.7386127875258306,2.7386127875258306,0,1,1,-2.7386127875258306,0A2.7386127875258306,2.7386127875258306,0,1,1,2.7386127875258306,0\" style=\"fill: none; stroke: #4c78a8; stroke-width: 2; opacity: 0.7;\"></path><path transform=\"translate(42.857142857142854,184.6153846153846)\" d=\"M2.7386127875258306,0A2.7386127875258306,2.7386127875258306,0,1,1,-2.7386127875258306,0A2.7386127875258306,2.7386127875258306,0,1,1,2.7386127875258306,0\" style=\"fill: none; stroke: #4c78a8; stroke-width: 2; opacity: 0.7;\"></path><path transform=\"translate(34.285714285714285,184.6153846153846)\" d=\"M2.7386127875258306,0A2.7386127875258306,2.7386127875258306,0,1,1,-2.7386127875258306,0A2.7386127875258306,2.7386127875258306,0,1,1,2.7386127875258306,0\" style=\"fill: none; stroke: #4c78a8; stroke-width: 2; opacity: 0.7;\"></path><path transform=\"translate(37.142857142857146,184.6153846153846)\" d=\"M2.7386127875258306,0A2.7386127875258306,2.7386127875258306,0,1,1,-2.7386127875258306,0A2.7386127875258306,2.7386127875258306,0,1,1,2.7386127875258306,0\" style=\"fill: none; stroke: #4c78a8; stroke-width: 2; opacity: 0.7;\"></path><path transform=\"translate(40,192.30769230769232)\" d=\"M2.7386127875258306,0A2.7386127875258306,2.7386127875258306,0,1,1,-2.7386127875258306,0A2.7386127875258306,2.7386127875258306,0,1,1,2.7386127875258306,0\" style=\"fill: none; stroke: #4c78a8; stroke-width: 2; opacity: 0.7;\"></path><path transform=\"translate(37.142857142857146,184.6153846153846)\" d=\"M2.7386127875258306,0A2.7386127875258306,2.7386127875258306,0,1,1,-2.7386127875258306,0A2.7386127875258306,2.7386127875258306,0,1,1,2.7386127875258306,0\" style=\"fill: none; stroke: #4c78a8; stroke-width: 2; opacity: 0.7;\"></path><path transform=\"translate(42.857142857142854,184.6153846153846)\" d=\"M2.7386127875258306,0A2.7386127875258306,2.7386127875258306,0,1,1,-2.7386127875258306,0A2.7386127875258306,2.7386127875258306,0,1,1,2.7386127875258306,0\" style=\"fill: none; stroke: #4c78a8; stroke-width: 2; opacity: 0.7;\"></path><path transform=\"translate(37.142857142857146,176.92307692307693)\" d=\"M2.7386127875258306,0A2.7386127875258306,2.7386127875258306,0,1,1,-2.7386127875258306,0A2.7386127875258306,2.7386127875258306,0,1,1,2.7386127875258306,0\" style=\"fill: none; stroke: #4c78a8; stroke-width: 2; opacity: 0.7;\"></path><path transform=\"translate(37.142857142857146,176.92307692307693)\" d=\"M2.7386127875258306,0A2.7386127875258306,2.7386127875258306,0,1,1,-2.7386127875258306,0A2.7386127875258306,2.7386127875258306,0,1,1,2.7386127875258306,0\" style=\"fill: none; stroke: #4c78a8; stroke-width: 2; opacity: 0.7;\"></path><path transform=\"translate(37.142857142857146,184.6153846153846)\" d=\"M2.7386127875258306,0A2.7386127875258306,2.7386127875258306,0,1,1,-2.7386127875258306,0A2.7386127875258306,2.7386127875258306,0,1,1,2.7386127875258306,0\" style=\"fill: none; stroke: #4c78a8; stroke-width: 2; opacity: 0.7;\"></path><path transform=\"translate(45.714285714285715,153.84615384615384)\" d=\"M2.7386127875258306,0A2.7386127875258306,2.7386127875258306,0,1,1,-2.7386127875258306,0A2.7386127875258306,2.7386127875258306,0,1,1,2.7386127875258306,0\" style=\"fill: none; stroke: #4c78a8; stroke-width: 2; opacity: 0.7;\"></path><path transform=\"translate(54.285714285714285,169.23076923076923)\" d=\"M2.7386127875258306,0A2.7386127875258306,2.7386127875258306,0,1,1,-2.7386127875258306,0A2.7386127875258306,2.7386127875258306,0,1,1,2.7386127875258306,0\" style=\"fill: none; stroke: #4c78a8; stroke-width: 2; opacity: 0.7;\"></path><path transform=\"translate(40,176.92307692307693)\" d=\"M2.7386127875258306,0A2.7386127875258306,2.7386127875258306,0,1,1,-2.7386127875258306,0A2.7386127875258306,2.7386127875258306,0,1,1,2.7386127875258306,0\" style=\"fill: none; stroke: #4c78a8; stroke-width: 2; opacity: 0.7;\"></path><path transform=\"translate(45.714285714285715,184.6153846153846)\" d=\"M2.7386127875258306,0A2.7386127875258306,2.7386127875258306,0,1,1,-2.7386127875258306,0A2.7386127875258306,2.7386127875258306,0,1,1,2.7386127875258306,0\" style=\"fill: none; stroke: #4c78a8; stroke-width: 2; opacity: 0.7;\"></path><path transform=\"translate(40,184.6153846153846)\" d=\"M2.7386127875258306,0A2.7386127875258306,2.7386127875258306,0,1,1,-2.7386127875258306,0A2.7386127875258306,2.7386127875258306,0,1,1,2.7386127875258306,0\" style=\"fill: none; stroke: #4c78a8; stroke-width: 2; opacity: 0.7;\"></path><path transform=\"translate(42.857142857142854,184.6153846153846)\" d=\"M2.7386127875258306,0A2.7386127875258306,2.7386127875258306,0,1,1,-2.7386127875258306,0A2.7386127875258306,2.7386127875258306,0,1,1,2.7386127875258306,0\" style=\"fill: none; stroke: #4c78a8; stroke-width: 2; opacity: 0.7;\"></path><path transform=\"translate(40,184.6153846153846)\" d=\"M2.7386127875258306,0A2.7386127875258306,2.7386127875258306,0,1,1,-2.7386127875258306,0A2.7386127875258306,2.7386127875258306,0,1,1,2.7386127875258306,0\" style=\"fill: none; stroke: #4c78a8; stroke-width: 2; opacity: 0.7;\"></path><path transform=\"translate(134.2857142857143,92.3076923076923)\" d=\"M2.7386127875258306,0A2.7386127875258306,2.7386127875258306,0,1,1,-2.7386127875258306,0A2.7386127875258306,2.7386127875258306,0,1,1,2.7386127875258306,0\" style=\"fill: none; stroke: #f58518; stroke-width: 2; opacity: 0.7;\"></path><path transform=\"translate(128.57142857142858,84.61538461538463)\" d=\"M2.7386127875258306,0A2.7386127875258306,2.7386127875258306,0,1,1,-2.7386127875258306,0A2.7386127875258306,2.7386127875258306,0,1,1,2.7386127875258306,0\" style=\"fill: none; stroke: #f58518; stroke-width: 2; opacity: 0.7;\"></path><path transform=\"translate(140,84.61538461538463)\" d=\"M2.7386127875258306,0A2.7386127875258306,2.7386127875258306,0,1,1,-2.7386127875258306,0A2.7386127875258306,2.7386127875258306,0,1,1,2.7386127875258306,0\" style=\"fill: none; stroke: #f58518; stroke-width: 2; opacity: 0.7;\"></path><path transform=\"translate(114.28571428571428,100)\" d=\"M2.7386127875258306,0A2.7386127875258306,2.7386127875258306,0,1,1,-2.7386127875258306,0A2.7386127875258306,2.7386127875258306,0,1,1,2.7386127875258306,0\" style=\"fill: none; stroke: #f58518; stroke-width: 2; opacity: 0.7;\"></path><path transform=\"translate(131.42857142857142,84.61538461538463)\" d=\"M2.7386127875258306,0A2.7386127875258306,2.7386127875258306,0,1,1,-2.7386127875258306,0A2.7386127875258306,2.7386127875258306,0,1,1,2.7386127875258306,0\" style=\"fill: none; stroke: #f58518; stroke-width: 2; opacity: 0.7;\"></path><path transform=\"translate(128.57142857142858,100)\" d=\"M2.7386127875258306,0A2.7386127875258306,2.7386127875258306,0,1,1,-2.7386127875258306,0A2.7386127875258306,2.7386127875258306,0,1,1,2.7386127875258306,0\" style=\"fill: none; stroke: #f58518; stroke-width: 2; opacity: 0.7;\"></path><path transform=\"translate(134.2857142857143,76.92307692307692)\" d=\"M2.7386127875258306,0A2.7386127875258306,2.7386127875258306,0,1,1,-2.7386127875258306,0A2.7386127875258306,2.7386127875258306,0,1,1,2.7386127875258306,0\" style=\"fill: none; stroke: #f58518; stroke-width: 2; opacity: 0.7;\"></path><path transform=\"translate(94.28571428571428,123.07692307692308)\" d=\"M2.7386127875258306,0A2.7386127875258306,2.7386127875258306,0,1,1,-2.7386127875258306,0A2.7386127875258306,2.7386127875258306,0,1,1,2.7386127875258306,0\" style=\"fill: none; stroke: #f58518; stroke-width: 2; opacity: 0.7;\"></path><path transform=\"translate(131.42857142857142,100)\" d=\"M2.7386127875258306,0A2.7386127875258306,2.7386127875258306,0,1,1,-2.7386127875258306,0A2.7386127875258306,2.7386127875258306,0,1,1,2.7386127875258306,0\" style=\"fill: none; stroke: #f58518; stroke-width: 2; opacity: 0.7;\"></path><path transform=\"translate(111.42857142857143,92.3076923076923)\" d=\"M2.7386127875258306,0A2.7386127875258306,2.7386127875258306,0,1,1,-2.7386127875258306,0A2.7386127875258306,2.7386127875258306,0,1,1,2.7386127875258306,0\" style=\"fill: none; stroke: #f58518; stroke-width: 2; opacity: 0.7;\"></path><path transform=\"translate(100,123.07692307692308)\" d=\"M2.7386127875258306,0A2.7386127875258306,2.7386127875258306,0,1,1,-2.7386127875258306,0A2.7386127875258306,2.7386127875258306,0,1,1,2.7386127875258306,0\" style=\"fill: none; stroke: #f58518; stroke-width: 2; opacity: 0.7;\"></path><path transform=\"translate(120,84.61538461538463)\" d=\"M2.7386127875258306,0A2.7386127875258306,2.7386127875258306,0,1,1,-2.7386127875258306,0A2.7386127875258306,2.7386127875258306,0,1,1,2.7386127875258306,0\" style=\"fill: none; stroke: #f58518; stroke-width: 2; opacity: 0.7;\"></path><path transform=\"translate(114.28571428571428,123.07692307692308)\" d=\"M2.7386127875258306,0A2.7386127875258306,2.7386127875258306,0,1,1,-2.7386127875258306,0A2.7386127875258306,2.7386127875258306,0,1,1,2.7386127875258306,0\" style=\"fill: none; stroke: #f58518; stroke-width: 2; opacity: 0.7;\"></path><path transform=\"translate(134.2857142857143,92.3076923076923)\" d=\"M2.7386127875258306,0A2.7386127875258306,2.7386127875258306,0,1,1,-2.7386127875258306,0A2.7386127875258306,2.7386127875258306,0,1,1,2.7386127875258306,0\" style=\"fill: none; stroke: #f58518; stroke-width: 2; opacity: 0.7;\"></path><path transform=\"translate(102.85714285714288,100)\" d=\"M2.7386127875258306,0A2.7386127875258306,2.7386127875258306,0,1,1,-2.7386127875258306,0A2.7386127875258306,2.7386127875258306,0,1,1,2.7386127875258306,0\" style=\"fill: none; stroke: #f58518; stroke-width: 2; opacity: 0.7;\"></path><path transform=\"translate(125.71428571428574,92.3076923076923)\" d=\"M2.7386127875258306,0A2.7386127875258306,2.7386127875258306,0,1,1,-2.7386127875258306,0A2.7386127875258306,2.7386127875258306,0,1,1,2.7386127875258306,0\" style=\"fill: none; stroke: #f58518; stroke-width: 2; opacity: 0.7;\"></path><path transform=\"translate(128.57142857142858,84.61538461538463)\" d=\"M2.7386127875258306,0A2.7386127875258306,2.7386127875258306,0,1,1,-2.7386127875258306,0A2.7386127875258306,2.7386127875258306,0,1,1,2.7386127875258306,0\" style=\"fill: none; stroke: #f58518; stroke-width: 2; opacity: 0.7;\"></path><path transform=\"translate(117.14285714285712,123.07692307692308)\" d=\"M2.7386127875258306,0A2.7386127875258306,2.7386127875258306,0,1,1,-2.7386127875258306,0A2.7386127875258306,2.7386127875258306,0,1,1,2.7386127875258306,0\" style=\"fill: none; stroke: #f58518; stroke-width: 2; opacity: 0.7;\"></path><path transform=\"translate(128.57142857142858,84.61538461538463)\" d=\"M2.7386127875258306,0A2.7386127875258306,2.7386127875258306,0,1,1,-2.7386127875258306,0A2.7386127875258306,2.7386127875258306,0,1,1,2.7386127875258306,0\" style=\"fill: none; stroke: #f58518; stroke-width: 2; opacity: 0.7;\"></path><path transform=\"translate(111.42857142857143,115.38461538461539)\" d=\"M2.7386127875258306,0A2.7386127875258306,2.7386127875258306,0,1,1,-2.7386127875258306,0A2.7386127875258306,2.7386127875258306,0,1,1,2.7386127875258306,0\" style=\"fill: none; stroke: #f58518; stroke-width: 2; opacity: 0.7;\"></path><path transform=\"translate(137.14285714285714,61.53846153846155)\" d=\"M2.7386127875258306,0A2.7386127875258306,2.7386127875258306,0,1,1,-2.7386127875258306,0A2.7386127875258306,2.7386127875258306,0,1,1,2.7386127875258306,0\" style=\"fill: none; stroke: #f58518; stroke-width: 2; opacity: 0.7;\"></path><path transform=\"translate(114.28571428571428,100)\" d=\"M2.7386127875258306,0A2.7386127875258306,2.7386127875258306,0,1,1,-2.7386127875258306,0A2.7386127875258306,2.7386127875258306,0,1,1,2.7386127875258306,0\" style=\"fill: none; stroke: #f58518; stroke-width: 2; opacity: 0.7;\"></path><path transform=\"translate(140,84.61538461538463)\" d=\"M2.7386127875258306,0A2.7386127875258306,2.7386127875258306,0,1,1,-2.7386127875258306,0A2.7386127875258306,2.7386127875258306,0,1,1,2.7386127875258306,0\" style=\"fill: none; stroke: #f58518; stroke-width: 2; opacity: 0.7;\"></path><path transform=\"translate(134.2857142857143,107.6923076923077)\" d=\"M2.7386127875258306,0A2.7386127875258306,2.7386127875258306,0,1,1,-2.7386127875258306,0A2.7386127875258306,2.7386127875258306,0,1,1,2.7386127875258306,0\" style=\"fill: none; stroke: #f58518; stroke-width: 2; opacity: 0.7;\"></path><path transform=\"translate(122.85714285714285,100)\" d=\"M2.7386127875258306,0A2.7386127875258306,2.7386127875258306,0,1,1,-2.7386127875258306,0A2.7386127875258306,2.7386127875258306,0,1,1,2.7386127875258306,0\" style=\"fill: none; stroke: #f58518; stroke-width: 2; opacity: 0.7;\"></path><path transform=\"translate(125.71428571428574,92.3076923076923)\" d=\"M2.7386127875258306,0A2.7386127875258306,2.7386127875258306,0,1,1,-2.7386127875258306,0A2.7386127875258306,2.7386127875258306,0,1,1,2.7386127875258306,0\" style=\"fill: none; stroke: #f58518; stroke-width: 2; opacity: 0.7;\"></path><path transform=\"translate(137.14285714285714,92.3076923076923)\" d=\"M2.7386127875258306,0A2.7386127875258306,2.7386127875258306,0,1,1,-2.7386127875258306,0A2.7386127875258306,2.7386127875258306,0,1,1,2.7386127875258306,0\" style=\"fill: none; stroke: #f58518; stroke-width: 2; opacity: 0.7;\"></path><path transform=\"translate(142.85714285714286,69.23076923076923)\" d=\"M2.7386127875258306,0A2.7386127875258306,2.7386127875258306,0,1,1,-2.7386127875258306,0A2.7386127875258306,2.7386127875258306,0,1,1,2.7386127875258306,0\" style=\"fill: none; stroke: #f58518; stroke-width: 2; opacity: 0.7;\"></path><path transform=\"translate(128.57142857142858,84.61538461538463)\" d=\"M2.7386127875258306,0A2.7386127875258306,2.7386127875258306,0,1,1,-2.7386127875258306,0A2.7386127875258306,2.7386127875258306,0,1,1,2.7386127875258306,0\" style=\"fill: none; stroke: #f58518; stroke-width: 2; opacity: 0.7;\"></path><path transform=\"translate(100,123.07692307692308)\" d=\"M2.7386127875258306,0A2.7386127875258306,2.7386127875258306,0,1,1,-2.7386127875258306,0A2.7386127875258306,2.7386127875258306,0,1,1,2.7386127875258306,0\" style=\"fill: none; stroke: #f58518; stroke-width: 2; opacity: 0.7;\"></path><path transform=\"translate(108.57142857142857,115.38461538461539)\" d=\"M2.7386127875258306,0A2.7386127875258306,2.7386127875258306,0,1,1,-2.7386127875258306,0A2.7386127875258306,2.7386127875258306,0,1,1,2.7386127875258306,0\" style=\"fill: none; stroke: #f58518; stroke-width: 2; opacity: 0.7;\"></path><path transform=\"translate(105.71428571428572,123.07692307692308)\" d=\"M2.7386127875258306,0A2.7386127875258306,2.7386127875258306,0,1,1,-2.7386127875258306,0A2.7386127875258306,2.7386127875258306,0,1,1,2.7386127875258306,0\" style=\"fill: none; stroke: #f58518; stroke-width: 2; opacity: 0.7;\"></path><path transform=\"translate(111.42857142857143,107.6923076923077)\" d=\"M2.7386127875258306,0A2.7386127875258306,2.7386127875258306,0,1,1,-2.7386127875258306,0A2.7386127875258306,2.7386127875258306,0,1,1,2.7386127875258306,0\" style=\"fill: none; stroke: #f58518; stroke-width: 2; opacity: 0.7;\"></path><path transform=\"translate(145.7142857142857,76.92307692307692)\" d=\"M2.7386127875258306,0A2.7386127875258306,2.7386127875258306,0,1,1,-2.7386127875258306,0A2.7386127875258306,2.7386127875258306,0,1,1,2.7386127875258306,0\" style=\"fill: none; stroke: #f58518; stroke-width: 2; opacity: 0.7;\"></path><path transform=\"translate(128.57142857142858,84.61538461538463)\" d=\"M2.7386127875258306,0A2.7386127875258306,2.7386127875258306,0,1,1,-2.7386127875258306,0A2.7386127875258306,2.7386127875258306,0,1,1,2.7386127875258306,0\" style=\"fill: none; stroke: #f58518; stroke-width: 2; opacity: 0.7;\"></path><path transform=\"translate(128.57142857142858,76.92307692307692)\" d=\"M2.7386127875258306,0A2.7386127875258306,2.7386127875258306,0,1,1,-2.7386127875258306,0A2.7386127875258306,2.7386127875258306,0,1,1,2.7386127875258306,0\" style=\"fill: none; stroke: #f58518; stroke-width: 2; opacity: 0.7;\"></path><path transform=\"translate(134.2857142857143,84.61538461538463)\" d=\"M2.7386127875258306,0A2.7386127875258306,2.7386127875258306,0,1,1,-2.7386127875258306,0A2.7386127875258306,2.7386127875258306,0,1,1,2.7386127875258306,0\" style=\"fill: none; stroke: #f58518; stroke-width: 2; opacity: 0.7;\"></path><path transform=\"translate(125.71428571428574,100)\" d=\"M2.7386127875258306,0A2.7386127875258306,2.7386127875258306,0,1,1,-2.7386127875258306,0A2.7386127875258306,2.7386127875258306,0,1,1,2.7386127875258306,0\" style=\"fill: none; stroke: #f58518; stroke-width: 2; opacity: 0.7;\"></path><path transform=\"translate(117.14285714285712,100)\" d=\"M2.7386127875258306,0A2.7386127875258306,2.7386127875258306,0,1,1,-2.7386127875258306,0A2.7386127875258306,2.7386127875258306,0,1,1,2.7386127875258306,0\" style=\"fill: none; stroke: #f58518; stroke-width: 2; opacity: 0.7;\"></path><path transform=\"translate(114.28571428571428,100)\" d=\"M2.7386127875258306,0A2.7386127875258306,2.7386127875258306,0,1,1,-2.7386127875258306,0A2.7386127875258306,2.7386127875258306,0,1,1,2.7386127875258306,0\" style=\"fill: none; stroke: #f58518; stroke-width: 2; opacity: 0.7;\"></path><path transform=\"translate(125.71428571428574,107.6923076923077)\" d=\"M2.7386127875258306,0A2.7386127875258306,2.7386127875258306,0,1,1,-2.7386127875258306,0A2.7386127875258306,2.7386127875258306,0,1,1,2.7386127875258306,0\" style=\"fill: none; stroke: #f58518; stroke-width: 2; opacity: 0.7;\"></path><path transform=\"translate(131.42857142857142,92.3076923076923)\" d=\"M2.7386127875258306,0A2.7386127875258306,2.7386127875258306,0,1,1,-2.7386127875258306,0A2.7386127875258306,2.7386127875258306,0,1,1,2.7386127875258306,0\" style=\"fill: none; stroke: #f58518; stroke-width: 2; opacity: 0.7;\"></path><path transform=\"translate(114.28571428571428,107.6923076923077)\" d=\"M2.7386127875258306,0A2.7386127875258306,2.7386127875258306,0,1,1,-2.7386127875258306,0A2.7386127875258306,2.7386127875258306,0,1,1,2.7386127875258306,0\" style=\"fill: none; stroke: #f58518; stroke-width: 2; opacity: 0.7;\"></path><path transform=\"translate(94.28571428571428,123.07692307692308)\" d=\"M2.7386127875258306,0A2.7386127875258306,2.7386127875258306,0,1,1,-2.7386127875258306,0A2.7386127875258306,2.7386127875258306,0,1,1,2.7386127875258306,0\" style=\"fill: none; stroke: #f58518; stroke-width: 2; opacity: 0.7;\"></path><path transform=\"translate(120,100)\" d=\"M2.7386127875258306,0A2.7386127875258306,2.7386127875258306,0,1,1,-2.7386127875258306,0A2.7386127875258306,2.7386127875258306,0,1,1,2.7386127875258306,0\" style=\"fill: none; stroke: #f58518; stroke-width: 2; opacity: 0.7;\"></path><path transform=\"translate(120,107.6923076923077)\" d=\"M2.7386127875258306,0A2.7386127875258306,2.7386127875258306,0,1,1,-2.7386127875258306,0A2.7386127875258306,2.7386127875258306,0,1,1,2.7386127875258306,0\" style=\"fill: none; stroke: #f58518; stroke-width: 2; opacity: 0.7;\"></path><path transform=\"translate(120,100)\" d=\"M2.7386127875258306,0A2.7386127875258306,2.7386127875258306,0,1,1,-2.7386127875258306,0A2.7386127875258306,2.7386127875258306,0,1,1,2.7386127875258306,0\" style=\"fill: none; stroke: #f58518; stroke-width: 2; opacity: 0.7;\"></path><path transform=\"translate(122.85714285714285,100)\" d=\"M2.7386127875258306,0A2.7386127875258306,2.7386127875258306,0,1,1,-2.7386127875258306,0A2.7386127875258306,2.7386127875258306,0,1,1,2.7386127875258306,0\" style=\"fill: none; stroke: #f58518; stroke-width: 2; opacity: 0.7;\"></path><path transform=\"translate(85.71428571428571,115.38461538461539)\" d=\"M2.7386127875258306,0A2.7386127875258306,2.7386127875258306,0,1,1,-2.7386127875258306,0A2.7386127875258306,2.7386127875258306,0,1,1,2.7386127875258306,0\" style=\"fill: none; stroke: #f58518; stroke-width: 2; opacity: 0.7;\"></path><path transform=\"translate(117.14285714285712,100)\" d=\"M2.7386127875258306,0A2.7386127875258306,2.7386127875258306,0,1,1,-2.7386127875258306,0A2.7386127875258306,2.7386127875258306,0,1,1,2.7386127875258306,0\" style=\"fill: none; stroke: #f58518; stroke-width: 2; opacity: 0.7;\"></path><path transform=\"translate(171.42857142857142,7.692307692307708)\" d=\"M2.7386127875258306,0A2.7386127875258306,2.7386127875258306,0,1,1,-2.7386127875258306,0A2.7386127875258306,2.7386127875258306,0,1,1,2.7386127875258306,0\" style=\"fill: none; stroke: #e45756; stroke-width: 2; opacity: 0.7;\"></path><path transform=\"translate(145.7142857142857,53.84615384615387)\" d=\"M2.7386127875258306,0A2.7386127875258306,2.7386127875258306,0,1,1,-2.7386127875258306,0A2.7386127875258306,2.7386127875258306,0,1,1,2.7386127875258306,0\" style=\"fill: none; stroke: #e45756; stroke-width: 2; opacity: 0.7;\"></path><path transform=\"translate(168.57142857142858,38.46153846153845)\" d=\"M2.7386127875258306,0A2.7386127875258306,2.7386127875258306,0,1,1,-2.7386127875258306,0A2.7386127875258306,2.7386127875258306,0,1,1,2.7386127875258306,0\" style=\"fill: none; stroke: #e45756; stroke-width: 2; opacity: 0.7;\"></path><path transform=\"translate(160,61.53846153846155)\" d=\"M2.7386127875258306,0A2.7386127875258306,2.7386127875258306,0,1,1,-2.7386127875258306,0A2.7386127875258306,2.7386127875258306,0,1,1,2.7386127875258306,0\" style=\"fill: none; stroke: #e45756; stroke-width: 2; opacity: 0.7;\"></path><path transform=\"translate(165.7142857142857,30.769230769230774)\" d=\"M2.7386127875258306,0A2.7386127875258306,2.7386127875258306,0,1,1,-2.7386127875258306,0A2.7386127875258306,2.7386127875258306,0,1,1,2.7386127875258306,0\" style=\"fill: none; stroke: #e45756; stroke-width: 2; opacity: 0.7;\"></path><path transform=\"translate(188.57142857142856,38.46153846153845)\" d=\"M2.7386127875258306,0A2.7386127875258306,2.7386127875258306,0,1,1,-2.7386127875258306,0A2.7386127875258306,2.7386127875258306,0,1,1,2.7386127875258306,0\" style=\"fill: none; stroke: #e45756; stroke-width: 2; opacity: 0.7;\"></path><path transform=\"translate(128.57142857142858,69.23076923076923)\" d=\"M2.7386127875258306,0A2.7386127875258306,2.7386127875258306,0,1,1,-2.7386127875258306,0A2.7386127875258306,2.7386127875258306,0,1,1,2.7386127875258306,0\" style=\"fill: none; stroke: #e45756; stroke-width: 2; opacity: 0.7;\"></path><path transform=\"translate(180,61.53846153846155)\" d=\"M2.7386127875258306,0A2.7386127875258306,2.7386127875258306,0,1,1,-2.7386127875258306,0A2.7386127875258306,2.7386127875258306,0,1,1,2.7386127875258306,0\" style=\"fill: none; stroke: #e45756; stroke-width: 2; opacity: 0.7;\"></path><path transform=\"translate(165.7142857142857,61.53846153846155)\" d=\"M2.7386127875258306,0A2.7386127875258306,2.7386127875258306,0,1,1,-2.7386127875258306,0A2.7386127875258306,2.7386127875258306,0,1,1,2.7386127875258306,0\" style=\"fill: none; stroke: #e45756; stroke-width: 2; opacity: 0.7;\"></path><path transform=\"translate(174.28571428571428,7.692307692307708)\" d=\"M2.7386127875258306,0A2.7386127875258306,2.7386127875258306,0,1,1,-2.7386127875258306,0A2.7386127875258306,2.7386127875258306,0,1,1,2.7386127875258306,0\" style=\"fill: none; stroke: #e45756; stroke-width: 2; opacity: 0.7;\"></path><path transform=\"translate(145.7142857142857,46.15384615384616)\" d=\"M2.7386127875258306,0A2.7386127875258306,2.7386127875258306,0,1,1,-2.7386127875258306,0A2.7386127875258306,2.7386127875258306,0,1,1,2.7386127875258306,0\" style=\"fill: none; stroke: #e45756; stroke-width: 2; opacity: 0.7;\"></path><path transform=\"translate(151.42857142857142,53.84615384615387)\" d=\"M2.7386127875258306,0A2.7386127875258306,2.7386127875258306,0,1,1,-2.7386127875258306,0A2.7386127875258306,2.7386127875258306,0,1,1,2.7386127875258306,0\" style=\"fill: none; stroke: #e45756; stroke-width: 2; opacity: 0.7;\"></path><path transform=\"translate(157.14285714285714,38.46153846153845)\" d=\"M2.7386127875258306,0A2.7386127875258306,2.7386127875258306,0,1,1,-2.7386127875258306,0A2.7386127875258306,2.7386127875258306,0,1,1,2.7386127875258306,0\" style=\"fill: none; stroke: #e45756; stroke-width: 2; opacity: 0.7;\"></path><path transform=\"translate(142.85714285714286,46.15384615384616)\" d=\"M2.7386127875258306,0A2.7386127875258306,2.7386127875258306,0,1,1,-2.7386127875258306,0A2.7386127875258306,2.7386127875258306,0,1,1,2.7386127875258306,0\" style=\"fill: none; stroke: #e45756; stroke-width: 2; opacity: 0.7;\"></path><path transform=\"translate(145.7142857142857,15.384615384615387)\" d=\"M2.7386127875258306,0A2.7386127875258306,2.7386127875258306,0,1,1,-2.7386127875258306,0A2.7386127875258306,2.7386127875258306,0,1,1,2.7386127875258306,0\" style=\"fill: none; stroke: #e45756; stroke-width: 2; opacity: 0.7;\"></path><path transform=\"translate(151.42857142857142,23.076923076923094)\" d=\"M2.7386127875258306,0A2.7386127875258306,2.7386127875258306,0,1,1,-2.7386127875258306,0A2.7386127875258306,2.7386127875258306,0,1,1,2.7386127875258306,0\" style=\"fill: none; stroke: #e45756; stroke-width: 2; opacity: 0.7;\"></path><path transform=\"translate(157.14285714285714,61.53846153846155)\" d=\"M2.7386127875258306,0A2.7386127875258306,2.7386127875258306,0,1,1,-2.7386127875258306,0A2.7386127875258306,2.7386127875258306,0,1,1,2.7386127875258306,0\" style=\"fill: none; stroke: #e45756; stroke-width: 2; opacity: 0.7;\"></path><path transform=\"translate(191.42857142857144,30.769230769230774)\" d=\"M2.7386127875258306,0A2.7386127875258306,2.7386127875258306,0,1,1,-2.7386127875258306,0A2.7386127875258306,2.7386127875258306,0,1,1,2.7386127875258306,0\" style=\"fill: none; stroke: #e45756; stroke-width: 2; opacity: 0.7;\"></path><path transform=\"translate(197.14285714285717,23.076923076923094)\" d=\"M2.7386127875258306,0A2.7386127875258306,2.7386127875258306,0,1,1,-2.7386127875258306,0A2.7386127875258306,2.7386127875258306,0,1,1,2.7386127875258306,0\" style=\"fill: none; stroke: #e45756; stroke-width: 2; opacity: 0.7;\"></path><path transform=\"translate(142.85714285714286,84.61538461538463)\" d=\"M2.7386127875258306,0A2.7386127875258306,2.7386127875258306,0,1,1,-2.7386127875258306,0A2.7386127875258306,2.7386127875258306,0,1,1,2.7386127875258306,0\" style=\"fill: none; stroke: #e45756; stroke-width: 2; opacity: 0.7;\"></path><path transform=\"translate(162.85714285714286,23.076923076923094)\" d=\"M2.7386127875258306,0A2.7386127875258306,2.7386127875258306,0,1,1,-2.7386127875258306,0A2.7386127875258306,2.7386127875258306,0,1,1,2.7386127875258306,0\" style=\"fill: none; stroke: #e45756; stroke-width: 2; opacity: 0.7;\"></path><path transform=\"translate(140,46.15384615384616)\" d=\"M2.7386127875258306,0A2.7386127875258306,2.7386127875258306,0,1,1,-2.7386127875258306,0A2.7386127875258306,2.7386127875258306,0,1,1,2.7386127875258306,0\" style=\"fill: none; stroke: #e45756; stroke-width: 2; opacity: 0.7;\"></path><path transform=\"translate(191.42857142857144,46.15384615384616)\" d=\"M2.7386127875258306,0A2.7386127875258306,2.7386127875258306,0,1,1,-2.7386127875258306,0A2.7386127875258306,2.7386127875258306,0,1,1,2.7386127875258306,0\" style=\"fill: none; stroke: #e45756; stroke-width: 2; opacity: 0.7;\"></path><path transform=\"translate(140,61.53846153846155)\" d=\"M2.7386127875258306,0A2.7386127875258306,2.7386127875258306,0,1,1,-2.7386127875258306,0A2.7386127875258306,2.7386127875258306,0,1,1,2.7386127875258306,0\" style=\"fill: none; stroke: #e45756; stroke-width: 2; opacity: 0.7;\"></path><path transform=\"translate(162.85714285714286,38.46153846153845)\" d=\"M2.7386127875258306,0A2.7386127875258306,2.7386127875258306,0,1,1,-2.7386127875258306,0A2.7386127875258306,2.7386127875258306,0,1,1,2.7386127875258306,0\" style=\"fill: none; stroke: #e45756; stroke-width: 2; opacity: 0.7;\"></path><path transform=\"translate(171.42857142857142,61.53846153846155)\" d=\"M2.7386127875258306,0A2.7386127875258306,2.7386127875258306,0,1,1,-2.7386127875258306,0A2.7386127875258306,2.7386127875258306,0,1,1,2.7386127875258306,0\" style=\"fill: none; stroke: #e45756; stroke-width: 2; opacity: 0.7;\"></path><path transform=\"translate(137.14285714285714,61.53846153846155)\" d=\"M2.7386127875258306,0A2.7386127875258306,2.7386127875258306,0,1,1,-2.7386127875258306,0A2.7386127875258306,2.7386127875258306,0,1,1,2.7386127875258306,0\" style=\"fill: none; stroke: #e45756; stroke-width: 2; opacity: 0.7;\"></path><path transform=\"translate(140,61.53846153846155)\" d=\"M2.7386127875258306,0A2.7386127875258306,2.7386127875258306,0,1,1,-2.7386127875258306,0A2.7386127875258306,2.7386127875258306,0,1,1,2.7386127875258306,0\" style=\"fill: none; stroke: #e45756; stroke-width: 2; opacity: 0.7;\"></path><path transform=\"translate(160,38.46153846153845)\" d=\"M2.7386127875258306,0A2.7386127875258306,2.7386127875258306,0,1,1,-2.7386127875258306,0A2.7386127875258306,2.7386127875258306,0,1,1,2.7386127875258306,0\" style=\"fill: none; stroke: #e45756; stroke-width: 2; opacity: 0.7;\"></path><path transform=\"translate(165.7142857142857,76.92307692307692)\" d=\"M2.7386127875258306,0A2.7386127875258306,2.7386127875258306,0,1,1,-2.7386127875258306,0A2.7386127875258306,2.7386127875258306,0,1,1,2.7386127875258306,0\" style=\"fill: none; stroke: #e45756; stroke-width: 2; opacity: 0.7;\"></path><path transform=\"translate(174.28571428571428,53.84615384615387)\" d=\"M2.7386127875258306,0A2.7386127875258306,2.7386127875258306,0,1,1,-2.7386127875258306,0A2.7386127875258306,2.7386127875258306,0,1,1,2.7386127875258306,0\" style=\"fill: none; stroke: #e45756; stroke-width: 2; opacity: 0.7;\"></path><path transform=\"translate(182.85714285714286,46.15384615384616)\" d=\"M2.7386127875258306,0A2.7386127875258306,2.7386127875258306,0,1,1,-2.7386127875258306,0A2.7386127875258306,2.7386127875258306,0,1,1,2.7386127875258306,0\" style=\"fill: none; stroke: #e45756; stroke-width: 2; opacity: 0.7;\"></path><path transform=\"translate(160,30.769230769230774)\" d=\"M2.7386127875258306,0A2.7386127875258306,2.7386127875258306,0,1,1,-2.7386127875258306,0A2.7386127875258306,2.7386127875258306,0,1,1,2.7386127875258306,0\" style=\"fill: none; stroke: #e45756; stroke-width: 2; opacity: 0.7;\"></path><path transform=\"translate(145.7142857142857,84.61538461538463)\" d=\"M2.7386127875258306,0A2.7386127875258306,2.7386127875258306,0,1,1,-2.7386127875258306,0A2.7386127875258306,2.7386127875258306,0,1,1,2.7386127875258306,0\" style=\"fill: none; stroke: #e45756; stroke-width: 2; opacity: 0.7;\"></path><path transform=\"translate(160,92.3076923076923)\" d=\"M2.7386127875258306,0A2.7386127875258306,2.7386127875258306,0,1,1,-2.7386127875258306,0A2.7386127875258306,2.7386127875258306,0,1,1,2.7386127875258306,0\" style=\"fill: none; stroke: #e45756; stroke-width: 2; opacity: 0.7;\"></path><path transform=\"translate(174.28571428571428,23.076923076923094)\" d=\"M2.7386127875258306,0A2.7386127875258306,2.7386127875258306,0,1,1,-2.7386127875258306,0A2.7386127875258306,2.7386127875258306,0,1,1,2.7386127875258306,0\" style=\"fill: none; stroke: #e45756; stroke-width: 2; opacity: 0.7;\"></path><path transform=\"translate(160,15.384615384615387)\" d=\"M2.7386127875258306,0A2.7386127875258306,2.7386127875258306,0,1,1,-2.7386127875258306,0A2.7386127875258306,2.7386127875258306,0,1,1,2.7386127875258306,0\" style=\"fill: none; stroke: #e45756; stroke-width: 2; opacity: 0.7;\"></path><path transform=\"translate(157.14285714285714,61.53846153846155)\" d=\"M2.7386127875258306,0A2.7386127875258306,2.7386127875258306,0,1,1,-2.7386127875258306,0A2.7386127875258306,2.7386127875258306,0,1,1,2.7386127875258306,0\" style=\"fill: none; stroke: #e45756; stroke-width: 2; opacity: 0.7;\"></path><path transform=\"translate(137.14285714285714,61.53846153846155)\" d=\"M2.7386127875258306,0A2.7386127875258306,2.7386127875258306,0,1,1,-2.7386127875258306,0A2.7386127875258306,2.7386127875258306,0,1,1,2.7386127875258306,0\" style=\"fill: none; stroke: #e45756; stroke-width: 2; opacity: 0.7;\"></path><path transform=\"translate(154.2857142857143,38.46153846153845)\" d=\"M2.7386127875258306,0A2.7386127875258306,2.7386127875258306,0,1,1,-2.7386127875258306,0A2.7386127875258306,2.7386127875258306,0,1,1,2.7386127875258306,0\" style=\"fill: none; stroke: #e45756; stroke-width: 2; opacity: 0.7;\"></path><path transform=\"translate(160,15.384615384615387)\" d=\"M2.7386127875258306,0A2.7386127875258306,2.7386127875258306,0,1,1,-2.7386127875258306,0A2.7386127875258306,2.7386127875258306,0,1,1,2.7386127875258306,0\" style=\"fill: none; stroke: #e45756; stroke-width: 2; opacity: 0.7;\"></path><path transform=\"translate(145.7142857142857,23.076923076923094)\" d=\"M2.7386127875258306,0A2.7386127875258306,2.7386127875258306,0,1,1,-2.7386127875258306,0A2.7386127875258306,2.7386127875258306,0,1,1,2.7386127875258306,0\" style=\"fill: none; stroke: #e45756; stroke-width: 2; opacity: 0.7;\"></path><path transform=\"translate(145.7142857142857,53.84615384615387)\" d=\"M2.7386127875258306,0A2.7386127875258306,2.7386127875258306,0,1,1,-2.7386127875258306,0A2.7386127875258306,2.7386127875258306,0,1,1,2.7386127875258306,0\" style=\"fill: none; stroke: #e45756; stroke-width: 2; opacity: 0.7;\"></path><path transform=\"translate(168.57142857142858,23.076923076923094)\" d=\"M2.7386127875258306,0A2.7386127875258306,2.7386127875258306,0,1,1,-2.7386127875258306,0A2.7386127875258306,2.7386127875258306,0,1,1,2.7386127875258306,0\" style=\"fill: none; stroke: #e45756; stroke-width: 2; opacity: 0.7;\"></path><path transform=\"translate(162.85714285714286,7.692307692307708)\" d=\"M2.7386127875258306,0A2.7386127875258306,2.7386127875258306,0,1,1,-2.7386127875258306,0A2.7386127875258306,2.7386127875258306,0,1,1,2.7386127875258306,0\" style=\"fill: none; stroke: #e45756; stroke-width: 2; opacity: 0.7;\"></path><path transform=\"translate(148.57142857142858,23.076923076923094)\" d=\"M2.7386127875258306,0A2.7386127875258306,2.7386127875258306,0,1,1,-2.7386127875258306,0A2.7386127875258306,2.7386127875258306,0,1,1,2.7386127875258306,0\" style=\"fill: none; stroke: #e45756; stroke-width: 2; opacity: 0.7;\"></path><path transform=\"translate(142.85714285714286,53.84615384615387)\" d=\"M2.7386127875258306,0A2.7386127875258306,2.7386127875258306,0,1,1,-2.7386127875258306,0A2.7386127875258306,2.7386127875258306,0,1,1,2.7386127875258306,0\" style=\"fill: none; stroke: #e45756; stroke-width: 2; opacity: 0.7;\"></path><path transform=\"translate(148.57142857142858,46.15384615384616)\" d=\"M2.7386127875258306,0A2.7386127875258306,2.7386127875258306,0,1,1,-2.7386127875258306,0A2.7386127875258306,2.7386127875258306,0,1,1,2.7386127875258306,0\" style=\"fill: none; stroke: #e45756; stroke-width: 2; opacity: 0.7;\"></path><path transform=\"translate(154.2857142857143,23.076923076923094)\" d=\"M2.7386127875258306,0A2.7386127875258306,2.7386127875258306,0,1,1,-2.7386127875258306,0A2.7386127875258306,2.7386127875258306,0,1,1,2.7386127875258306,0\" style=\"fill: none; stroke: #e45756; stroke-width: 2; opacity: 0.7;\"></path><path transform=\"translate(145.7142857142857,61.53846153846155)\" d=\"M2.7386127875258306,0A2.7386127875258306,2.7386127875258306,0,1,1,-2.7386127875258306,0A2.7386127875258306,2.7386127875258306,0,1,1,2.7386127875258306,0\" style=\"fill: none; stroke: #e45756; stroke-width: 2; opacity: 0.7;\"></path></g><g class=\"mark-group role-legend\"><g transform=\"translate(218,0)\"><path class=\"background\" d=\"M0,0h97v61h-97Z\" style=\"pointer-events: none; fill: none;\"></path><g><g class=\"mark-group role-legend-entry\"><g transform=\"translate(0,16)\"><path class=\"background\" d=\"M0,0h0v0h0Z\" style=\"pointer-events: none; fill: none;\"></path><g><g class=\"mark-group role-scope\"><g transform=\"translate(0,0)\"><path class=\"background\" d=\"M0,0h97v12.5h-97Z\" style=\"pointer-events: none; fill: none; opacity: 1;\"></path><g><g class=\"mark-symbol role-legend-symbol\" style=\"pointer-events: none;\"><path transform=\"translate(6,6)\" d=\"M5,0A5,5,0,1,1,-5,0A5,5,0,1,1,5,0\" style=\"fill: none; stroke: #4c78a8; stroke-width: 1.5; opacity: 0.7;\"></path></g><g class=\"mark-text role-legend-label\" style=\"pointer-events: none;\"><text text-anchor=\"start\" transform=\"translate(16,9)\" style=\"font-family: sans-serif; font-size: 10px; fill: #000; opacity: 1;\">setosa</text></g></g></g><g transform=\"translate(0,16)\"><path class=\"background\" d=\"M0,0h97v12.5h-97Z\" style=\"pointer-events: none; fill: none; opacity: 1;\"></path><g><g class=\"mark-symbol role-legend-symbol\" style=\"pointer-events: none;\"><path transform=\"translate(6,6)\" d=\"M5,0A5,5,0,1,1,-5,0A5,5,0,1,1,5,0\" style=\"fill: none; stroke: #f58518; stroke-width: 1.5; opacity: 0.7;\"></path></g><g class=\"mark-text role-legend-label\" style=\"pointer-events: none;\"><text text-anchor=\"start\" transform=\"translate(16,9)\" style=\"font-family: sans-serif; font-size: 10px; fill: #000; opacity: 1;\">versicolor</text></g></g></g><g transform=\"translate(0,32)\"><path class=\"background\" d=\"M0,0h97v12.5h-97Z\" style=\"pointer-events: none; fill: none; opacity: 1;\"></path><g><g class=\"mark-symbol role-legend-symbol\" style=\"pointer-events: none;\"><path transform=\"translate(6,6)\" d=\"M5,0A5,5,0,1,1,-5,0A5,5,0,1,1,5,0\" style=\"fill: none; stroke: #e45756; stroke-width: 1.5; opacity: 0.7;\"></path></g><g class=\"mark-text role-legend-label\" style=\"pointer-events: none;\"><text text-anchor=\"start\" transform=\"translate(16,9)\" style=\"font-family: sans-serif; font-size: 10px; fill: #000; opacity: 1;\">virginica</text></g></g></g></g></g></g></g><g class=\"mark-text role-legend-title\" style=\"pointer-events: none;\"><text text-anchor=\"start\" transform=\"translate(0,9)\" style=\"font-family: sans-serif; font-size: 11px; font-weight: bold; fill: #000; opacity: 1;\">Species</text></g></g></g></g><g class=\"mark-group role-axis\"><g transform=\"translate(0.5,200.5)\"><path class=\"background\" d=\"M0,0h0v0h0Z\" style=\"pointer-events: none; fill: none;\"></path><g><g class=\"mark-rule role-axis-tick\" style=\"pointer-events: none;\"><line transform=\"translate(0,0)\" x2=\"0\" y2=\"5\" style=\"fill: none; stroke: #888; stroke-width: 1; opacity: 1;\"></line><line transform=\"translate(29,0)\" x2=\"0\" y2=\"5\" style=\"fill: none; stroke: #888; stroke-width: 1; opacity: 1;\"></line><line transform=\"translate(57,0)\" x2=\"0\" y2=\"5\" style=\"fill: none; stroke: #888; stroke-width: 1; opacity: 1;\"></line><line transform=\"translate(86,0)\" x2=\"0\" y2=\"5\" style=\"fill: none; stroke: #888; stroke-width: 1; opacity: 1;\"></line><line transform=\"translate(114,0)\" x2=\"0\" y2=\"5\" style=\"fill: none; stroke: #888; stroke-width: 1; opacity: 1;\"></line><line transform=\"translate(143,0)\" x2=\"0\" y2=\"5\" style=\"fill: none; stroke: #888; stroke-width: 1; opacity: 1;\"></line><line transform=\"translate(171,0)\" x2=\"0\" y2=\"5\" style=\"fill: none; stroke: #888; stroke-width: 1; opacity: 1;\"></line><line transform=\"translate(200,0)\" x2=\"0\" y2=\"5\" style=\"fill: none; stroke: #888; stroke-width: 1; opacity: 1;\"></line></g><g class=\"mark-text role-axis-label\" style=\"pointer-events: none;\"><text text-anchor=\"start\" transform=\"translate(0,15)\" style=\"font-family: sans-serif; font-size: 10px; fill: #000; opacity: 1;\">0</text><text text-anchor=\"middle\" transform=\"translate(28.57142857142857,15)\" style=\"font-family: sans-serif; font-size: 10px; fill: #000; opacity: 1;\">1</text><text text-anchor=\"middle\" transform=\"translate(57.14285714285714,15)\" style=\"font-family: sans-serif; font-size: 10px; fill: #000; opacity: 1;\">2</text><text text-anchor=\"middle\" transform=\"translate(85.71428571428571,15)\" style=\"font-family: sans-serif; font-size: 10px; fill: #000; opacity: 1;\">3</text><text text-anchor=\"middle\" transform=\"translate(114.28571428571428,15)\" style=\"font-family: sans-serif; font-size: 10px; fill: #000; opacity: 1;\">4</text><text text-anchor=\"middle\" transform=\"translate(142.85714285714286,15)\" style=\"font-family: sans-serif; font-size: 10px; fill: #000; opacity: 1;\">5</text><text text-anchor=\"middle\" transform=\"translate(171.42857142857142,15)\" style=\"font-family: sans-serif; font-size: 10px; fill: #000; opacity: 1;\">6</text><text text-anchor=\"end\" transform=\"translate(200,15)\" style=\"font-family: sans-serif; font-size: 10px; fill: #000; opacity: 1;\">7</text></g><g class=\"mark-rule role-axis-domain\" style=\"pointer-events: none;\"><line transform=\"translate(0,0)\" x2=\"200\" y2=\"0\" style=\"fill: none; stroke: #888; stroke-width: 1; opacity: 1;\"></line></g><g class=\"mark-text role-axis-title\" style=\"pointer-events: none;\"><text text-anchor=\"middle\" transform=\"translate(100,31)\" style=\"font-family: sans-serif; font-size: 11px; font-weight: bold; fill: #000; opacity: 1;\">PetalLength</text></g></g></g></g><g class=\"mark-group role-axis\"><g transform=\"translate(0.5,0.5)\"><path class=\"background\" d=\"M0,0h0v0h0Z\" style=\"pointer-events: none; fill: none;\"></path><g><g class=\"mark-rule role-axis-tick\" style=\"pointer-events: none;\"><line transform=\"translate(0,200)\" x2=\"-5\" y2=\"0\" style=\"fill: none; stroke: #888; stroke-width: 1; opacity: 1;\"></line><line transform=\"translate(0,162)\" x2=\"-5\" y2=\"0\" style=\"fill: none; stroke: #888; stroke-width: 1; opacity: 1;\"></line><line transform=\"translate(0,123)\" x2=\"-5\" y2=\"0\" style=\"fill: none; stroke: #888; stroke-width: 1; opacity: 1;\"></line><line transform=\"translate(0,85)\" x2=\"-5\" y2=\"0\" style=\"fill: none; stroke: #888; stroke-width: 1; opacity: 1;\"></line><line transform=\"translate(0,46)\" x2=\"-5\" y2=\"0\" style=\"fill: none; stroke: #888; stroke-width: 1; opacity: 1;\"></line><line transform=\"translate(0,8)\" x2=\"-5\" y2=\"0\" style=\"fill: none; stroke: #888; stroke-width: 1; opacity: 1;\"></line></g><g class=\"mark-text role-axis-label\" style=\"pointer-events: none;\"><text text-anchor=\"end\" transform=\"translate(-7,203)\" style=\"font-family: sans-serif; font-size: 10px; fill: #000; opacity: 1;\">0.0</text><text text-anchor=\"end\" transform=\"translate(-7,164.53846153846155)\" style=\"font-family: sans-serif; font-size: 10px; fill: #000; opacity: 1;\">0.5</text><text text-anchor=\"end\" transform=\"translate(-7,126.07692307692308)\" style=\"font-family: sans-serif; font-size: 10px; fill: #000; opacity: 1;\">1.0</text><text text-anchor=\"end\" transform=\"translate(-7,87.61538461538463)\" style=\"font-family: sans-serif; font-size: 10px; fill: #000; opacity: 1;\">1.5</text><text text-anchor=\"end\" transform=\"translate(-7,49.15384615384616)\" style=\"font-family: sans-serif; font-size: 10px; fill: #000; opacity: 1;\">2.0</text><text text-anchor=\"end\" transform=\"translate(-7,10.692307692307708)\" style=\"font-family: sans-serif; font-size: 10px; fill: #000; opacity: 1;\">2.5</text></g><g class=\"mark-rule role-axis-domain\" style=\"pointer-events: none;\"><line transform=\"translate(0,200)\" x2=\"0\" y2=\"-200\" style=\"fill: none; stroke: #888; stroke-width: 1; opacity: 1;\"></line></g><g class=\"mark-text role-axis-title\" style=\"pointer-events: none;\"><text text-anchor=\"middle\" transform=\"translate(-36,100) rotate(-90) translate(0,-2)\" style=\"font-family: sans-serif; font-size: 11px; font-weight: bold; fill: #000; opacity: 1;\">PetalWidth</text></g></g></g></g></g></g></g></g></svg>"
      ],
      "text/plain": [
       "VegaLite.VLSpec{:plot}"
      ]
     },
     "execution_count": 18,
     "metadata": {},
     "output_type": "execute_result"
    }
   ],
   "source": [
    "using RDatasets, VegaLite\n",
    "iris = dataset(\"datasets\", \"iris\")\n",
    "\n",
    "iris |> @vlplot(\n",
    "    :point,\n",
    "    x=:PetalLength,\n",
    "    y=:PetalWidth,\n",
    "    color=:Species\n",
    ")"
   ]
  },
  {
   "cell_type": "markdown",
   "metadata": {},
   "source": [
    "Another useful tool for exploring tabular data is [DataVoyager.jl](https://github.com/queryverse/DataVoyager.jl)"
   ]
  },
  {
   "cell_type": "markdown",
   "metadata": {
    "hide-output": false
   },
   "source": [
    "```julia\n",
    "using DataVoyager\n",
    "iris |> Voyager()\n",
    "```\n"
   ]
  },
  {
   "cell_type": "markdown",
   "metadata": {},
   "source": [
    "The `Voyager()` function creates a separate window for analysis"
   ]
  },
  {
   "cell_type": "markdown",
   "metadata": {},
   "source": [
    "## Statistics and Econometrics\n",
    "\n",
    "While Julia is not intended as a replacement for R, Stata, and similar specialty languages, it has a growing number of packages aimed at statistics and econometrics\n",
    "\n",
    "Many of the packages live in the [JuliaStats organization](https://github.com/JuliaStats/)\n",
    "\n",
    "A few to point out\n",
    "\n",
    "- [StatsBase](https://github.com/JuliaStats/StatsBase.jl) has basic statistical functions such as geometric and harmonic means, auto-correlations, robust statistics, etc.  \n",
    "- [StatsFuns](https://github.com/JuliaStats/StatsFuns.jl) has a variety of mathematical functions and constants such as pdf and cdf of many distributions, softmax, etc.  "
   ]
  },
  {
   "cell_type": "markdown",
   "metadata": {},
   "source": [
    "### General Linear Models\n",
    "\n",
    "To run linear regressions and similar statistics, use the [GLM](http://juliastats.github.io/GLM.jl/latest/) package"
   ]
  },
  {
   "cell_type": "code",
   "execution_count": 19,
   "metadata": {
    "hide-output": false
   },
   "outputs": [
    {
     "name": "stderr",
     "output_type": "stream",
     "text": [
      "┌ Warning: In the future eachcol will have names argument set to false by default\n",
      "│   caller = evalcontrasts(::DataFrame, ::Dict{Any,Any}) at modelframe.jl:124\n",
      "└ @ StatsModels /home/quantecon/.julia/packages/StatsModels/AYB2E/src/modelframe.jl:124\n"
     ]
    },
    {
     "data": {
      "text/plain": [
       "StatsModels.DataFrameRegressionModel{LinearModel{LmResp{Array{Float64,1}},DensePredChol{Float64,Cholesky{Float64,Array{Float64,2}}}},Array{Float64,2}}\n",
       "\n",
       "Formula: y ~ 1 + x\n",
       "\n",
       "Coefficients:\n",
       "             Estimate Std.Error t value Pr(>|t|)\n",
       "(Intercept)  0.249491  0.014145 17.6381   <1e-31\n",
       "x            0.897359 0.0133282 67.3276   <1e-83\n"
      ]
     },
     "execution_count": 19,
     "metadata": {},
     "output_type": "execute_result"
    }
   ],
   "source": [
    "using GLM\n",
    "\n",
    "x = randn(100)\n",
    "y = 0.9 .* x + 0.5 * rand(100)\n",
    "df = DataFrame(x=x, y=y)\n",
    "ols = lm(@formula(y ~ x), df) # R-style notation"
   ]
  },
  {
   "cell_type": "markdown",
   "metadata": {},
   "source": [
    "To display the results in a useful tables for LaTeX and the REPL, use\n",
    "[RegressionTables](https://github.com/jmboehm/RegressionTables.jl/) for output\n",
    "similar to the Stata package esttab and the R package stargazer"
   ]
  },
  {
   "cell_type": "code",
   "execution_count": 20,
   "metadata": {
    "hide-output": false
   },
   "outputs": [
    {
     "name": "stderr",
     "output_type": "stream",
     "text": [
      "┌ Info: Precompiling RegressionTables [d519eb52-b820-54da-95a6-98e1306fdade]\n",
      "└ @ Base loading.jl:1192\n"
     ]
    },
    {
     "name": "stderr",
     "output_type": "stream",
     "text": [
      "ERROR: "
     ]
    },
    {
     "name": "stderr",
     "output_type": "stream",
     "text": [
      "LoadError: LoadError: "
     ]
    },
    {
     "name": "stderr",
     "output_type": "stream",
     "text": [
      "UndefVarError: Ones not defined"
     ]
    },
    {
     "name": "stderr",
     "output_type": "stream",
     "text": [
      "\n",
      "Stacktrace:\n",
      " [1] "
     ]
    },
    {
     "name": "stderr",
     "output_type": "stream",
     "text": [
      "top-level scope at none:0\n",
      " [2] include at ./boot.jl:317 [inlined]\n",
      " [3] "
     ]
    },
    {
     "name": "stderr",
     "output_type": "stream",
     "text": [
      "include_relative(::Module, ::String) at ./loading.jl:1044\n",
      " [4] include at ./sysimg.jl:29 [inlined]\n",
      " [5] include(::String) at /home/quantecon/.julia/packages/FixedEffectModels/Jn6lk/src/FixedEffectModels.jl:2\n",
      " [6] top-level scope at none:0\n",
      " [7] include at ./boot.jl:317 [inlined]\n",
      " [8] include_relative(::Module, ::String) at ./loading.jl:1044\n",
      " [9] include(::Module, ::String) at ./sysimg.jl:29\n",
      " [10] top-level scope at none:2\n",
      " [11] eval at ./boot.jl:319 [inlined]\n",
      " [12] eval(::Expr) at ./client.jl:393\n",
      " [13] top-level scope at ./none:3\n",
      "in expression starting at /home/quantecon/.julia/packages/FixedEffectModels/Jn6lk/src/reg.jl:428\n",
      "in expression starting at /home/quantecon/.julia/packages/FixedEffectModels/Jn6lk/src/FixedEffectModels.jl:87\n"
     ]
    },
    {
     "name": "stderr",
     "output_type": "stream",
     "text": [
      "ERROR: "
     ]
    },
    {
     "name": "stderr",
     "output_type": "stream",
     "text": [
      "LoadError: "
     ]
    },
    {
     "name": "stderr",
     "output_type": "stream",
     "text": [
      "Failed to precompile FixedEffectModels [9d5cd8c9-2029-5cab-9928-427838db53e3] to /home/quantecon/.julia/compiled/v1.0/FixedEffectModels/XFTup.ji.\n",
      "Stacktrace:"
     ]
    },
    {
     "name": "stderr",
     "output_type": "stream",
     "text": [
      "\n",
      " [1] "
     ]
    },
    {
     "name": "stderr",
     "output_type": "stream",
     "text": [
      "error"
     ]
    },
    {
     "name": "stderr",
     "output_type": "stream",
     "text": [
      "(::String) at ./error.jl:33\n",
      " [2] macro expansion at ./logging.jl:311 [inlined]\n",
      " [3] compilecache(::Base.PkgId, ::String) at ./loading.jl:1190\n",
      " [4] _require(::Base.PkgId) at ./logging.jl:309\n",
      " [5] require(::Base.PkgId) at ./loading.jl:858\n",
      " [6] macro expansion at ./logging.jl:309 [inlined]\n",
      " [7] require(::Module, ::Symbol) at ./loading.jl:840\n",
      " [8] include at ./boot.jl:317 [inlined]\n",
      " [9] include_relative(::Module, ::String) at ./loading.jl:1044\n",
      " [10] include(::Module, ::String) at ./sysimg.jl:29\n",
      " [11] top-level scope at none:2\n",
      " [12] eval at ./boot.jl:319 [inlined]\n",
      " [13] eval(::Expr) at ./client.jl:393\n",
      " [14] top-level scope at ./none:3\n",
      "in expression starting at /home/quantecon/.julia/packages/RegressionTables/TSQTA/src/RegressionTables.jl:39\n"
     ]
    },
    {
     "ename": "ErrorException",
     "evalue": "Failed to precompile RegressionTables [d519eb52-b820-54da-95a6-98e1306fdade] to /home/quantecon/.julia/compiled/v1.0/RegressionTables/cYvie.ji.",
     "output_type": "error",
     "traceback": [
      "Failed to precompile RegressionTables [d519eb52-b820-54da-95a6-98e1306fdade] to /home/quantecon/.julia/compiled/v1.0/RegressionTables/cYvie.ji.",
      "",
      "Stacktrace:",
      " [1] error(::String) at ./error.jl:33",
      " [2] macro expansion at ./logging.jl:311 [inlined]",
      " [3] compilecache(::Base.PkgId, ::String) at ./loading.jl:1190",
      " [4] macro expansion at ./logging.jl:309 [inlined]",
      " [5] _require(::Base.PkgId) at ./loading.jl:947",
      " [6] require(::Base.PkgId) at ./loading.jl:858",
      " [7] macro expansion at ./logging.jl:309 [inlined]",
      " [8] require(::Module, ::Symbol) at ./loading.jl:840",
      " [9] top-level scope at In[20]:1"
     ]
    }
   ],
   "source": [
    "using RegressionTables\n",
    "regtable(ols)\n",
    "# regtable(ols,  renderSettings = latexOutput()) # for LaTex output"
   ]
  },
  {
   "cell_type": "markdown",
   "metadata": {},
   "source": [
    "### Fixed Effects\n",
    "\n",
    "While Julia may be overkill for estimating a simple linear regression,\n",
    "fixed-effects estimation with dummies for multiple variables are much more computationally intensive\n",
    "\n",
    "For a 2-way fixed-effect, taking the example directly from the documentation using [cigarette consumption data](https://github.com/johnmyleswhite/RDatasets.jl/blob/master/doc/plm/rst/Cigar.rst)"
   ]
  },
  {
   "cell_type": "code",
   "execution_count": 21,
   "metadata": {
    "hide-output": false
   },
   "outputs": [
    {
     "name": "stderr",
     "output_type": "stream",
     "text": [
      "┌ Info: Precompiling FixedEffectModels [9d5cd8c9-2029-5cab-9928-427838db53e3]\n",
      "└ @ Base loading.jl:1192\n"
     ]
    },
    {
     "name": "stderr",
     "output_type": "stream",
     "text": [
      "ERROR: "
     ]
    },
    {
     "name": "stderr",
     "output_type": "stream",
     "text": [
      "LoadError: LoadError: "
     ]
    },
    {
     "name": "stderr",
     "output_type": "stream",
     "text": [
      "UndefVarError: Ones not defined\n",
      "Stacktrace:"
     ]
    },
    {
     "name": "stderr",
     "output_type": "stream",
     "text": [
      "\n",
      " [1] "
     ]
    },
    {
     "name": "stderr",
     "output_type": "stream",
     "text": [
      "top-level scope at none:0\n",
      " [2] include at ./boot.jl:317 [inlined]\n",
      " [3] include_relative("
     ]
    },
    {
     "name": "stderr",
     "output_type": "stream",
     "text": [
      "::Module, ::String) at ./loading.jl:1044\n",
      " [4] include at ./sysimg.jl:29 [inlined]\n",
      " [5] include(::String) at /home/quantecon/.julia/packages/FixedEffectModels/Jn6lk/src/FixedEffectModels.jl:2\n",
      " [6] top-level scope at none:0\n",
      " [7] include at ./boot.jl:317 [inlined]\n",
      " [8] include_relative(::Module, ::String) at ./loading.jl:1044\n",
      " [9] include(::Module, ::String) at ./sysimg.jl:29\n",
      " [10] top-level scope at none:2\n",
      " [11] eval at ./boot.jl:319 [inlined]\n",
      " [12] eval(::Expr) at ./client.jl:393\n",
      " [13] top-level scope at ./none:3\n",
      "in expression starting at /home/quantecon/.julia/packages/FixedEffectModels/Jn6lk/src/reg.jl:428\n",
      "in expression starting at /home/quantecon/.julia/packages/FixedEffectModels/Jn6lk/src/FixedEffectModels.jl:87\n"
     ]
    },
    {
     "ename": "ErrorException",
     "evalue": "Failed to precompile FixedEffectModels [9d5cd8c9-2029-5cab-9928-427838db53e3] to /home/quantecon/.julia/compiled/v1.0/FixedEffectModels/XFTup.ji.",
     "output_type": "error",
     "traceback": [
      "Failed to precompile FixedEffectModels [9d5cd8c9-2029-5cab-9928-427838db53e3] to /home/quantecon/.julia/compiled/v1.0/FixedEffectModels/XFTup.ji.",
      "",
      "Stacktrace:",
      " [1] error(::String) at ./error.jl:33",
      " [2] macro expansion at ./logging.jl:311 [inlined]",
      " [3] compilecache(::Base.PkgId, ::String) at ./loading.jl:1190",
      " [4] macro expansion at ./logging.jl:309 [inlined]",
      " [5] _require(::Base.PkgId) at ./loading.jl:947",
      " [6] require(::Base.PkgId) at ./loading.jl:858",
      " [7] macro expansion at ./logging.jl:309 [inlined]",
      " [8] require(::Module, ::Symbol) at ./loading.jl:840",
      " [9] top-level scope at In[21]:1"
     ]
    }
   ],
   "source": [
    "using FixedEffectModels\n",
    "cigar = dataset(\"plm\", \"Cigar\")\n",
    "cigar.StateCategorical =  categorical(cigar.State)\n",
    "cigar.YearCategorical =  categorical(cigar.Year)\n",
    "fixedeffectresults = reg(cigar, @model(Sales ~ NDI, fe = StateCategorical + YearCategorical,\n",
    "                            weights = Pop, vcov = cluster(StateCategorical)))\n",
    "regtable(fixedeffectresults)"
   ]
  },
  {
   "cell_type": "markdown",
   "metadata": {},
   "source": [
    "To explore the data use the interactive DataVoyager and VegaLite"
   ]
  },
  {
   "cell_type": "code",
   "execution_count": 22,
   "metadata": {
    "hide-output": false
   },
   "outputs": [
    {
     "ename": "UndefVarError",
     "evalue": "UndefVarError: cigar not defined",
     "output_type": "error",
     "traceback": [
      "UndefVarError: cigar not defined",
      "",
      "Stacktrace:",
      " [1] top-level scope at In[22]:1"
     ]
    }
   ],
   "source": [
    "# cigar |> Voyager()\n",
    "\n",
    "cigar |> @vlplot(\n",
    "    :point,\n",
    "    x=:Price,\n",
    "    y=:Sales,\n",
    "    color=:Year,\n",
    "    size=:NDI\n",
    ")"
   ]
  }
 ],
 "metadata": {
  "filename": "data_statistical_packages.rst",
  "kernelspec": {
   "display_name": "Julia",
   "language": "julia",
   "name": "julia-1.0"
  },
  "language_info": {
   "file_extension": ".jl",
   "mimetype": "application/julia",
   "name": "julia",
   "version": "1.0.2"
  },
  "title": "Data and Statistics Packages"
 },
 "nbformat": 4,
 "nbformat_minor": 2
}
