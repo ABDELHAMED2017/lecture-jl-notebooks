{
 "cells": [
  {
   "cell_type": "markdown",
   "metadata": {},
   "source": [
    "# Asset Pricing I: Finite State Models\n",
    "\n",
    "\n",
    "<a id='index-1'></a>"
   ]
  },
  {
   "cell_type": "markdown",
   "metadata": {},
   "source": [
    "## Contents\n",
    "\n",
    "- [Asset Pricing I: Finite State Models](#Asset-Pricing-I:-Finite-State-Models)  \n",
    "  - [Overview](#Overview)  \n",
    "  - [Pricing Models](#Pricing-Models)  \n",
    "  - [Prices in the Risk Neutral Case](#Prices-in-the-Risk-Neutral-Case)  \n",
    "  - [Asset Prices under Risk Aversion](#Asset-Prices-under-Risk-Aversion)  \n",
    "  - [Exercises](#Exercises)  \n",
    "  - [Solutions](#Solutions)  "
   ]
  },
  {
   "cell_type": "markdown",
   "metadata": {},
   "source": [
    "> “A little knowledge of geometric series goes a long way” – Robert E. Lucas, Jr.\n",
    "\n",
    "\n",
    "> “Asset pricing is all about covariances” – Lars Peter Hansen"
   ]
  },
  {
   "cell_type": "markdown",
   "metadata": {},
   "source": [
    "## Overview\n",
    "\n",
    "\n",
    "<a id='index-2'></a>\n",
    "An asset is a claim on one or more future payoffs\n",
    "\n",
    "The spot price of an asset depends primarily on\n",
    "\n",
    "- the anticipated dynamics for the stream of income accruing to the owners  \n",
    "- attitudes to risk  \n",
    "- rates of time preference  \n",
    "\n",
    "\n",
    "In this lecture we consider some standard pricing models and dividend stream specifications\n",
    "\n",
    "We study how prices and dividend-price ratios respond in these different scenarios\n",
    "\n",
    "We also look at creating and pricing *derivative* assets by repackaging income streams\n",
    "\n",
    "Key tools for the lecture are\n",
    "\n",
    "- formulas for predicting future values of functions of a Markov state  \n",
    "- a formula for predicting the discounted sum of future values of a Markov state  "
   ]
  },
  {
   "cell_type": "markdown",
   "metadata": {},
   "source": [
    "## Pricing Models\n",
    "\n",
    "\n",
    "<a id='index-4'></a>\n",
    "In what follows let $ \\{d_t\\}_{t \\geq 0} $ be a stream of dividends\n",
    "\n",
    "- A time-$ t $ **cum-dividend** asset is a claim to the stream $ d_t, d_{t+1}, \\ldots $  \n",
    "- A time-$ t $ **ex-dividend** asset is a claim to the stream $ d_{t+1}, d_{t+2}, \\ldots $  \n",
    "\n",
    "\n",
    "Let’s look at some equations that we expect to hold for prices of assets under ex-dividend contracts\n",
    "(we will consider cum-dividend pricing in the exercises)"
   ]
  },
  {
   "cell_type": "markdown",
   "metadata": {},
   "source": [
    "### Risk Neutral Pricing\n",
    "\n",
    "\n",
    "<a id='index-5'></a>\n",
    "Our first scenario is risk-neutral pricing\n",
    "\n",
    "Let $ \\beta = 1/(1+\\rho) $ be an intertemporal discount factor, where\n",
    "$ \\rho $ is the rate at which agents discount the future\n",
    "\n",
    "The basic risk-neutral asset pricing equation for pricing one unit of an ex-dividend asset is\n",
    "\n",
    "\n",
    "<a id='mass-pra'></a>\n",
    "\n",
    "<a id='equation-rnapex'></a>\n",
    "$$\n",
    "p_t = \\beta {\\mathbb E}_t [d_{t+1} + p_{t+1}] \\tag{1}\n",
    "$$\n",
    "\n",
    "This is a simple “cost equals expected benefit” relationship\n",
    "\n",
    "Here $ {\\mathbb E}_t [y] $ denotes the best forecast of $ y $, conditioned on information available at time $ t $"
   ]
  },
  {
   "cell_type": "markdown",
   "metadata": {},
   "source": [
    "### Pricing with Random Discount Factor\n",
    "\n",
    "\n",
    "<a id='index-6'></a>\n",
    "What happens if for some reason traders discount payouts differently depending on the state of the world?\n",
    "\n",
    "Michael Harrison and David Kreps [[HK79]](https://lectures.quantecon.org/jl/zreferences.html#harrisonkreps1979) and Lars Peter Hansen\n",
    "and Scott Richard [[HR87]](https://lectures.quantecon.org/jl/zreferences.html#hansenrichard1987) showed that in quite general\n",
    "settings the price of an ex-dividend asset obeys\n",
    "\n",
    "\n",
    "<a id='equation-lteeqs0'></a>\n",
    "$$\n",
    "p_t = {\\mathbb E}_t \\left[ m_{t+1}  ( d_{t+1} + p_{t+1} ) \\right] \\tag{2}\n",
    "$$\n",
    "\n",
    "for some  **stochastic discount factor** $ m_{t+1} $\n",
    "\n",
    "The fixed discount factor $ \\beta $ in [(1)](#equation-rnapex) has been replaced by the random variable $ m_{t+1} $\n",
    "\n",
    "The way anticipated future payoffs are evaluated can now depend on various random outcomes\n",
    "\n",
    "One example of this idea is that assets that tend to have good payoffs in bad states of the world might be regarded as more valuable\n",
    "\n",
    "This is because they pay well when the funds are more urgently needed\n",
    "\n",
    "We give examples of how the stochastic discount factor has been modeled below"
   ]
  },
  {
   "cell_type": "markdown",
   "metadata": {},
   "source": [
    "### Asset Pricing and Covariances\n",
    "\n",
    "Recall that, from the definition of a conditional covariance $ {\\rm cov}_t (x_{t+1}, y_{t+1}) $, we have\n",
    "\n",
    "\n",
    "<a id='equation-lteeqs101'></a>\n",
    "$$\n",
    "{\\mathbb E}_t (x_{t+1} y_{t+1}) = {\\rm cov}_t (x_{t+1}, y_{t+1}) + {\\mathbb E}_t x_{t+1} {\\mathbb E}_t y_{t+1} \\tag{3}\n",
    "$$\n",
    "\n",
    "If we apply this definition to the asset pricing equation [(2)](#equation-lteeqs0) we obtain\n",
    "\n",
    "\n",
    "<a id='equation-lteeqs102'></a>\n",
    "$$\n",
    "p_t = {\\mathbb E}_t m_{t+1} {\\mathbb E}_t (d_{t+1} + p_{t+1}) + {\\rm cov}_t (m_{t+1}, d_{t+1}+ p_{t+1}) \\tag{4}\n",
    "$$\n",
    "\n",
    "It is useful to regard equation [(4)](#equation-lteeqs102)   as a generalization of equation [(1)](#equation-rnapex)\n",
    "\n",
    "- In equation [(1)](#equation-rnapex), the stochastic discount factor $ m_{t+1} = \\beta $,  a constant  \n",
    "- In equation [(1)](#equation-rnapex), the covariance term $ {\\rm cov}_t (m_{t+1}, d_{t+1}+ p_{t+1}) $ is zero because $ m_{t+1} = \\beta $  \n",
    "\n",
    "\n",
    "Equation [(4)](#equation-lteeqs102) asserts that the covariance of the stochastic discount factor with the one period payout $ d_{t+1} + p_{t+1} $ is an important determinant of the price $ p_t $\n",
    "\n",
    "We give examples of some models of stochastic discount factors that have been proposed later in this lecture and also in a [later lecture](https://lectures.quantecon.org/jl/lucas_model.html#)"
   ]
  },
  {
   "cell_type": "markdown",
   "metadata": {},
   "source": [
    "### The Price-Dividend Ratio\n",
    "\n",
    "Aside from prices, another quantity of interest is the **price-dividend ratio** $ v_t := p_t / d_t $\n",
    "\n",
    "Let’s write down an expression that this ratio should satisfy\n",
    "\n",
    "We can divide both sides of [(2)](#equation-lteeqs0) by $ d_t $ to get\n",
    "\n",
    "\n",
    "<a id='equation-pdex'></a>\n",
    "$$\n",
    "v_t = {\\mathbb E}_t \\left[ m_{t+1} \\frac{d_{t+1}}{d_t} (1 + v_{t+1}) \\right] \\tag{5}\n",
    "$$\n",
    "\n",
    "Below we’ll discuss the implication of this equation"
   ]
  },
  {
   "cell_type": "markdown",
   "metadata": {},
   "source": [
    "## Prices in the Risk Neutral Case\n",
    "\n",
    "What can we say about price dynamics on the basis of the models described above?\n",
    "\n",
    "The answer to this question depends on\n",
    "\n",
    "1. the process we specify for dividends  \n",
    "1. the stochastic discount factor and how it correlates with dividends  \n",
    "\n",
    "\n",
    "For now let’s focus on the risk neutral case, where the stochastic discount factor is constant, and study how prices depend on the dividend process"
   ]
  },
  {
   "cell_type": "markdown",
   "metadata": {},
   "source": [
    "### Example 1: Constant dividends\n",
    "\n",
    "The simplest case is risk neutral pricing in the face of a constant, non-random dividend stream $ d_t = d > 0 $\n",
    "\n",
    "Removing the expectation from [(1)](#equation-rnapex) and iterating forward gives\n",
    "\n",
    "$$\n",
    "\\begin{aligned}\n",
    "    p_t & = \\beta (d + p_{t+1})\n",
    "        \\\\\n",
    "        & = \\beta (d + \\beta(d + p_{t+2}))\n",
    "        \\\\\n",
    "        & \\quad \\vdots\n",
    "        \\\\\n",
    "        & = \\beta (d + \\beta d + \\beta^2 d +  \\cdots + \\beta^{k-2} d + \\beta^{k-1} p_{t+k})\n",
    "\\end{aligned}\n",
    "$$\n",
    "\n",
    "Unless prices explode in the future, this sequence converges to\n",
    "\n",
    "\n",
    "<a id='equation-ddet'></a>\n",
    "$$\n",
    "\\bar p := \\frac{\\beta d}{1-\\beta} \\tag{6}\n",
    "$$\n",
    "\n",
    "This price is the equilibrium price in the constant dividend case\n",
    "\n",
    "Indeed, simple algebra shows that setting $ p_t = \\bar p $ for all $ t $\n",
    "satisfies the equilibrium condition $ p_t = \\beta (d + p_{t+1}) $"
   ]
  },
  {
   "cell_type": "markdown",
   "metadata": {},
   "source": [
    "### Example 2: Dividends with deterministic growth paths\n",
    "\n",
    "Consider a growing, non-random dividend process $ d_{t+1} = g d_t $\n",
    "where $ 0 < g \\beta < 1 $\n",
    "\n",
    "While prices are not usually constant when dividends grow over time, the price\n",
    "dividend-ratio might be\n",
    "\n",
    "If we guess this, substituting $ v_t = v $ into [(5)](#equation-pdex) as well as our\n",
    "other assumptions, we get $ v = \\beta g (1 + v) $\n",
    "\n",
    "Since $ \\beta g < 1 $, we have a unique positive solution:\n",
    "\n",
    "$$\n",
    "v = \\frac{\\beta g}{1 - \\beta g }\n",
    "$$\n",
    "\n",
    "The price is then\n",
    "\n",
    "$$\n",
    "p_t = \\frac{\\beta g}{1 - \\beta g } d_t\n",
    "$$\n",
    "\n",
    "If, in this example, we take $ g = 1+\\kappa $ and let\n",
    "$ \\rho := 1/\\beta - 1 $, then the price becomes\n",
    "\n",
    "$$\n",
    "p_t = \\frac{1 + \\kappa}{ \\rho - \\kappa} d_t\n",
    "$$\n",
    "\n",
    "This is called the *Gordon formula*\n",
    "\n",
    "\n",
    "<a id='mass-mg'></a>"
   ]
  },
  {
   "cell_type": "markdown",
   "metadata": {},
   "source": [
    "### Example 3: Markov growth, risk neutral pricing\n",
    "\n",
    "Next we consider a dividend process\n",
    "\n",
    "\n",
    "<a id='equation-mass-fmce'></a>\n",
    "$$\n",
    "d_{t+1} = g_{t+1} d_t \\tag{7}\n",
    "$$\n",
    "\n",
    "The stochastic growth factor $ \\{g_t\\} $ is given by\n",
    "\n",
    "$$\n",
    "g_t = g(X_t), \\quad t = 1, 2, \\ldots\n",
    "$$\n",
    "\n",
    "where\n",
    "\n",
    "1. $ \\{X_t\\} $ is a finite Markov chain with state space $ S $ and\n",
    "  transition probabilities  \n",
    "\n",
    "\n",
    "$$\n",
    "P(x, y) := \\mathbb P \\{ X_{t+1} = y \\,|\\, X_t = x \\}\n",
    "\\qquad (x, y \\in S)\n",
    "$$\n",
    "\n",
    "1. $ g $ is a given function on $ S $ taking positive values  \n",
    "\n",
    "\n",
    "You can think of\n",
    "\n",
    "- $ S $ as $ n $ possible “states of the world” and $ X_t $ as the\n",
    "  current state  \n",
    "- $ g $ as a function that maps a given state $ X_t $ into a growth\n",
    "  factor $ g_t = g(X_t) $ for the endowment  \n",
    "- $ \\ln g_t = \\ln (d_{t+1} / d_t) $ is the growth rate of dividends  \n",
    "\n",
    "\n",
    "(For a refresher on notation and theory for finite Markov chains see [this lecture](https://lectures.quantecon.org/jl/finite_markov.html#))\n",
    "\n",
    "The next figure shows a simulation, where\n",
    "\n",
    "- $ \\{X_t\\} $ evolves as a discretized AR1 process produced using [Tauchen’s method](https://lectures.quantecon.org/jl/finite_markov.html#mc-ex3)  \n",
    "- $ g_t = \\exp(X_t) $, so that $ \\ln g_t = X_t $ is the growth rate  "
   ]
  },
  {
   "cell_type": "markdown",
   "metadata": {},
   "source": [
    "### Setup"
   ]
  },
  {
   "cell_type": "code",
   "execution_count": 1,
   "metadata": {
    "hide-output": false
   },
   "outputs": [],
   "source": [
    "using InstantiateFromURL\n",
    "\n",
    "# activate the QuantEcon environment\n",
    "activate_github(\"QuantEcon/QuantEconLecturePackages\", tag = \"v0.9.5\");"
   ]
  },
  {
   "cell_type": "code",
   "execution_count": 2,
   "metadata": {
    "hide-output": false
   },
   "outputs": [],
   "source": [
    "using LinearAlgebra, Statistics, Compat\n",
    "using Parameters, Plots, QuantEcon\n",
    "gr(fmt = :png);"
   ]
  },
  {
   "cell_type": "code",
   "execution_count": 3,
   "metadata": {
    "hide-output": false
   },
   "outputs": [
    {
     "data": {
      "image/png": "[encoded data removed]"
     },
     "execution_count": 3,
     "metadata": {},
     "output_type": "execute_result"
    }
   ],
   "source": [
    "n = 25\n",
    "mc = tauchen(n, 0.96, 0.25)\n",
    "sim_length = 80\n",
    "\n",
    "x_series = simulate(mc, sim_length; init = round(Int, n / 2))\n",
    "g_series = exp.(x_series)\n",
    "d_series = cumprod(g_series) # assumes d_0 = 1\n",
    "\n",
    "series = [x_series g_series d_series log.(d_series)]\n",
    "labels = [\"X_t\" \"g_t\" \"d_t\" \"ln(d_t)\"]\n",
    "plot(series, layout = 4, labels = labels)"
   ]
  },
  {
   "cell_type": "markdown",
   "metadata": {},
   "source": [
    "#### Pricing\n",
    "\n",
    "To obtain asset prices in this setting, let’s adapt our analysis from the case of deterministic growth\n",
    "\n",
    "In that case we found that $ v $ is constant\n",
    "\n",
    "This encourages us to guess that, in the current case, $ v_t $ is constant given the state $ X_t $\n",
    "\n",
    "In other words, we are looking for a fixed function $ v $ such that the price-dividend ratio satisfies  $ v_t = v(X_t) $\n",
    "\n",
    "We can substitute this guess into [(5)](#equation-pdex) to get\n",
    "\n",
    "$$\n",
    "v(X_t) = \\beta {\\mathbb E}_t [ g(X_{t+1}) (1 + v(X_{t+1})) ]\n",
    "$$\n",
    "\n",
    "If we condition on $ X_t = x $, this becomes\n",
    "\n",
    "$$\n",
    "v(x) = \\beta \\sum_{y \\in S}  g(y) (1 + v(y)) P(x, y)\n",
    "$$\n",
    "\n",
    "or\n",
    "\n",
    "\n",
    "<a id='equation-pstack'></a>\n",
    "$$\n",
    "v(x) = \\beta \\sum_{y \\in S}   K(x, y) (1 + v(y))\n",
    "\\quad \\text{where} \\quad\n",
    "K(x, y) := g(y) P(x, y) \\tag{8}\n",
    "$$\n",
    "\n",
    "Suppose that there are $ n $ possible states $ x_1, \\ldots, x_n $\n",
    "\n",
    "We can then think of [(8)](#equation-pstack) as $ n $ stacked equations, one for each state, and write it in matrix form as\n",
    "\n",
    "\n",
    "<a id='equation-vcumrn'></a>\n",
    "$$\n",
    "v = \\beta K (\\mathbb 1 + v) \\tag{9}\n",
    "$$\n",
    "\n",
    "Here\n",
    "\n",
    "- $ v $ is understood to be the column vector $ (v(x_1), \\ldots, v(x_n))' $  \n",
    "- $ K $ is the matrix $ (K(x_i, x_j))_{1 \\leq i, j \\leq n} $  \n",
    "- $ {\\mathbb 1} $ is a column vector of ones  \n",
    "\n",
    "\n",
    "When does [(9)](#equation-vcumrn) have a unique solution?\n",
    "\n",
    "From the [Neumann series lemma](https://lectures.quantecon.org/jl/linear_algebra.html#la-neumann) and Gelfand’s formula, this will be the case if $ \\beta K $ has spectral radius strictly less than one\n",
    "\n",
    "In other words, we require that the eigenvalues of $ K $  be strictly less than $ \\beta^{-1} $ in modulus\n",
    "\n",
    "The solution is then\n",
    "\n",
    "\n",
    "<a id='equation-rned'></a>\n",
    "$$\n",
    "v = (I - \\beta K)^{-1} \\beta K{\\mathbb 1} \\tag{10}\n",
    "$$"
   ]
  },
  {
   "cell_type": "markdown",
   "metadata": {},
   "source": [
    "### Code\n",
    "\n",
    "Let’s calculate and plot the price-dividend ratio at a set of parameters\n",
    "\n",
    "As before, we’ll generate $ \\{X_t\\} $  as a [discretized AR1 process](https://lectures.quantecon.org/jl/finite_markov.html#mc-ex3) and set $ g_t = \\exp(X_t) $\n",
    "\n",
    "Here’s the code, including a test of the spectral radius condition"
   ]
  },
  {
   "cell_type": "code",
   "execution_count": 4,
   "metadata": {
    "hide-output": false
   },
   "outputs": [
    {
     "data": {
      "image/png": "[encoded data removed]"
     },
     "execution_count": 4,
     "metadata": {},
     "output_type": "execute_result"
    }
   ],
   "source": [
    "n = 25  # size of state space\n",
    "β = 0.9\n",
    "mc = tauchen(n, 0.96, 0.02)\n",
    "\n",
    "K = mc.p .* exp.(mc.state_values)'\n",
    "\n",
    "v = (I - β * K) \\  (β * K * ones(n, 1))\n",
    "\n",
    "plot(mc.state_values,\n",
    "     v,\n",
    "     lw = 2,\n",
    "     ylabel = \"price-dividend ratio\",\n",
    "     xlabel = \"state\",\n",
    "     alpha = 0.7,\n",
    "     label = \"v\")"
   ]
  },
  {
   "cell_type": "markdown",
   "metadata": {},
   "source": [
    "Why does the price-dividend ratio increase with the state?\n",
    "\n",
    "The reason is that this Markov process is positively correlated, so high\n",
    "current states suggest high future states\n",
    "\n",
    "Moreover, dividend growth is increasing in the state\n",
    "\n",
    "Anticipation of high future dividend growth leads to a high price-dividend ratio"
   ]
  },
  {
   "cell_type": "markdown",
   "metadata": {},
   "source": [
    "## Asset Prices under Risk Aversion\n",
    "\n",
    "Now let’s turn to the case where agents are risk averse\n",
    "\n",
    "We’ll price several distinct assets, including\n",
    "\n",
    "- The price of an endowment stream  \n",
    "- A consol (a variety of bond issued by the UK government in the 19th century)  \n",
    "- Call options on a consol  "
   ]
  },
  {
   "cell_type": "markdown",
   "metadata": {},
   "source": [
    "### Pricing a Lucas tree\n",
    "\n",
    "\n",
    "<a id='index-7'></a>\n",
    "Let’s start with a version of the celebrated asset pricing model of Robert E. Lucas, Jr. [[Luc78]](https://lectures.quantecon.org/jl/zreferences.html#lucas1978)\n",
    "\n",
    "As in [[Luc78]](https://lectures.quantecon.org/jl/zreferences.html#lucas1978), suppose that the stochastic discount factor takes the form\n",
    "\n",
    "\n",
    "<a id='equation-lucsdf'></a>\n",
    "$$\n",
    "m_{t+1} = \\beta \\frac{u'(c_{t+1})}{u'(c_t)} \\tag{11}\n",
    "$$\n",
    "\n",
    "where $ u $ is a concave utility function and $ c_t $ is time $ t $ consumption of a representative consumer\n",
    "\n",
    "(A derivation of this expression is given in a [later lecture](https://lectures.quantecon.org/jl/lucas_model.html#))\n",
    "\n",
    "Assume the existence of an endowment that follows [(7)](#equation-mass-fmce)\n",
    "\n",
    "The asset being priced is a claim on the endowment process\n",
    "\n",
    "Following [[Luc78]](https://lectures.quantecon.org/jl/zreferences.html#lucas1978), suppose further that in equilibrium, consumption\n",
    "is equal to the endowment, so that $ d_t = c_t $ for all $ t $\n",
    "\n",
    "For utility, we’ll assume the **constant relative risk aversion** (CRRA)\n",
    "specification\n",
    "\n",
    "\n",
    "<a id='equation-eqcrra'></a>\n",
    "$$\n",
    "u(c) = \\frac{c^{1-\\gamma}}{1 - \\gamma} \\ {\\rm with} \\ \\gamma > 0 \\tag{12}\n",
    "$$\n",
    "\n",
    "When $ \\gamma =1 $ we let $ u(c) = \\ln c $\n",
    "\n",
    "Inserting the CRRA specification into [(11)](#equation-lucsdf) and using $ c_t = d_t $ gives\n",
    "\n",
    "\n",
    "<a id='equation-lucsdf2'></a>\n",
    "$$\n",
    "m_{t+1}\n",
    "= \\beta \\left(\\frac{c_{t+1}}{c_t}\\right)^{-\\gamma}\n",
    "= \\beta g_{t+1}^{-\\gamma} \\tag{13}\n",
    "$$\n",
    "\n",
    "Substituting this into [(5)](#equation-pdex) gives the price-dividend ratio\n",
    "formula\n",
    "\n",
    "$$\n",
    "v(X_t)\n",
    "= \\beta {\\mathbb E}_t\n",
    "\\left[\n",
    "    g(X_{t+1})^{1-\\gamma} (1 + v(X_{t+1}) )\n",
    "\\right]\n",
    "$$\n",
    "\n",
    "Conditioning on $ X_t = x $, we can write this as\n",
    "\n",
    "$$\n",
    "v(x)\n",
    "= \\beta \\sum_{y \\in S} g(y)^{1-\\gamma} (1 + v(y) ) P(x, y)\n",
    "$$\n",
    "\n",
    "If we let\n",
    "\n",
    "$$\n",
    "J(x, y) := g(y)^{1-\\gamma}  P(x, y)\n",
    "$$\n",
    "\n",
    "then we can rewrite in vector form as\n",
    "\n",
    "$$\n",
    "v = \\beta J ({\\mathbb 1} + v )\n",
    "$$\n",
    "\n",
    "Assuming that the spectral radius of $ J $ is strictly less than $ \\beta^{-1} $, this equation has the unique solution\n",
    "\n",
    "\n",
    "<a id='equation-resolvent2'></a>\n",
    "$$\n",
    "v = (I - \\beta J)^{-1} \\beta  J {\\mathbb 1} \\tag{14}\n",
    "$$\n",
    "\n",
    "We will define a function tree_price to solve for $v$ given parameters stored in\n",
    "the AssetPriceModel objects"
   ]
  },
  {
   "cell_type": "code",
   "execution_count": 5,
   "metadata": {
    "hide-output": false
   },
   "outputs": [
    {
     "data": {
      "text/plain": [
       "tree_price (generic function with 1 method)"
      ]
     },
     "execution_count": 5,
     "metadata": {},
     "output_type": "execute_result"
    }
   ],
   "source": [
    "# A default Markov chain for the state process\n",
    "ρ = 0.9\n",
    "σ = 0.02\n",
    "n = 25\n",
    "default_mc = tauchen(n, ρ, σ)\n",
    "\n",
    "AssetPriceModel = @with_kw (β = 0.96,\n",
    "                            γ = 2.0,\n",
    "                            mc = default_mc,\n",
    "                            n = size(mc.p)[1],\n",
    "                            g = exp)\n",
    "\n",
    "# test stability of matrix Q\n",
    "function test_stability(ap, Q)\n",
    "    sr = maximum(abs, eigvals(Q))\n",
    "    if sr ≥ 1 / ap.β\n",
    "        msg = \"Spectral radius condition failed with radius = $sr\"\n",
    "        throw(ArgumentError(msg))\n",
    "    end\n",
    "end\n",
    "\n",
    "# price/dividend ratio of the Lucas tree\n",
    "function tree_price(ap; γ = ap.γ)\n",
    "    # Simplify names, set up matrices\n",
    "    @unpack β, mc = ap\n",
    "    P, y = mc.p, mc.state_values\n",
    "    y = reshape(y, 1, ap.n)\n",
    "    J = P .* ap.g.(y).^(1 - γ)\n",
    "\n",
    "    # Make sure that a unique solution exists\n",
    "    test_stability(ap, J)\n",
    "\n",
    "    # Compute v\n",
    "    v = (I - β * J) \\ sum(β * J, dims = 2)\n",
    "\n",
    "    return v\n",
    "end"
   ]
  },
  {
   "cell_type": "markdown",
   "metadata": {},
   "source": [
    "Here’s a plot of $ v $ as a function of the state for several values of $ \\gamma $,\n",
    "with a positively correlated Markov process and $ g(x) = \\exp(x) $"
   ]
  },
  {
   "cell_type": "code",
   "execution_count": 6,
   "metadata": {
    "hide-output": false
   },
   "outputs": [
    {
     "data": {
      "image/png": "[encoded data removed]"
     },
     "execution_count": 6,
     "metadata": {},
     "output_type": "execute_result"
    }
   ],
   "source": [
    "γs = [1.2, 1.4, 1.6, 1.8, 2.0]\n",
    "ap = AssetPriceModel()\n",
    "states = ap.mc.state_values\n",
    "\n",
    "lines = []\n",
    "labels = []\n",
    "\n",
    "for γ in γs\n",
    "    v = tree_price(ap, γ = γ)\n",
    "    label = \"gamma = $γ\"\n",
    "    push!(labels, label)\n",
    "    push!(lines, v)\n",
    "end\n",
    "\n",
    "plot(lines,\n",
    "     labels = reshape(labels, 1, length(labels)),\n",
    "     title = \"Price-dividend ratio as a function of the state\",\n",
    "     ylabel = \"price-dividend ratio\",\n",
    "     xlabel = \"state\")"
   ]
  },
  {
   "cell_type": "markdown",
   "metadata": {},
   "source": [
    "Notice that $ v $ is decreasing in each case\n",
    "\n",
    "This is because, with a positively correlated state process, higher states suggest higher future consumption growth\n",
    "\n",
    "In the stochastic discount factor [(13)](#equation-lucsdf2), higher growth decreases the\n",
    "discount factor, lowering the weight placed on future returns"
   ]
  },
  {
   "cell_type": "markdown",
   "metadata": {},
   "source": [
    "#### Special cases\n",
    "\n",
    "In the special case $ \\gamma =1 $, we have $ J = P $\n",
    "\n",
    "Recalling that $ P^i {\\mathbb 1} = {\\mathbb 1} $ for all $ i $ and applying [Neumann’s geometric series lemma](https://lectures.quantecon.org/jl/linear_algebra.html#la-neumann), we are led to\n",
    "\n",
    "$$\n",
    "v = \\beta(I-\\beta P)^{-1} {\\mathbb 1}\n",
    "= \\beta \\sum_{i=0}^{\\infty} \\beta^i P^i {\\mathbb 1}\n",
    "= \\beta \\frac{1}{1 - \\beta} {\\mathbb 1}\n",
    "$$\n",
    "\n",
    "Thus, with log preferences, the price-dividend ratio for a Lucas tree is constant\n",
    "\n",
    "Alternatively, if $ \\gamma = 0 $, then $ J = K $ and we recover the\n",
    "risk neutral solution [(10)](#equation-rned)\n",
    "\n",
    "This is as expected, since $ \\gamma = 0 $ implies $ u(c) = c $ (and hence agents are risk neutral)"
   ]
  },
  {
   "cell_type": "markdown",
   "metadata": {},
   "source": [
    "### A Risk-Free Consol\n",
    "\n",
    "Consider the same pure exchange representative agent economy\n",
    "\n",
    "A risk-free consol promises to pay a constant amount  $ \\zeta> 0 $ each period\n",
    "\n",
    "Recycling notation, let $ p_t $ now be the price of an  ex-coupon claim to the consol\n",
    "\n",
    "An ex-coupon claim to the consol entitles the owner at the end of period $ t $ to\n",
    "\n",
    "- $ \\zeta $ in period $ t+1 $, plus  \n",
    "- the right to sell the claim for $ p_{t+1} $ next period  \n",
    "\n",
    "\n",
    "The price satisfies [(2)](#equation-lteeqs0) with $ d_t = \\zeta $, or\n",
    "\n",
    "$$\n",
    "p_t = {\\mathbb E}_t \\left[ m_{t+1}  ( \\zeta + p_{t+1} ) \\right]\n",
    "$$\n",
    "\n",
    "We maintain the stochastic discount factor [(13)](#equation-lucsdf2), so this becomes\n",
    "\n",
    "\n",
    "<a id='equation-consolguess1'></a>\n",
    "$$\n",
    "p_t\n",
    "= {\\mathbb E}_t \\left[ \\beta g_{t+1}^{-\\gamma}  ( \\zeta + p_{t+1} ) \\right] \\tag{15}\n",
    "$$\n",
    "\n",
    "Guessing a solution of the form $ p_t = p(X_t) $ and conditioning on\n",
    "$ X_t = x $, we get\n",
    "\n",
    "$$\n",
    "p(x)\n",
    "= \\beta \\sum_{y \\in S}  g(y)^{-\\gamma} (\\zeta + p(y)) P(x, y)\n",
    "$$\n",
    "\n",
    "Letting $ M(x, y) = P(x, y) g(y)^{-\\gamma} $ and rewriting in vector notation\n",
    "yields the solution\n",
    "\n",
    "\n",
    "<a id='equation-consol-price'></a>\n",
    "$$\n",
    "p = (I - \\beta M)^{-1} \\beta M \\zeta {\\mathbb 1} \\tag{16}\n",
    "$$\n",
    "\n",
    "The above is implemented in the function consol_price"
   ]
  },
  {
   "cell_type": "code",
   "execution_count": 7,
   "metadata": {
    "hide-output": false
   },
   "outputs": [
    {
     "data": {
      "text/plain": [
       "consol_price (generic function with 1 method)"
      ]
     },
     "execution_count": 7,
     "metadata": {},
     "output_type": "execute_result"
    }
   ],
   "source": [
    "function consol_price(ap, ζ)\n",
    "    # Simplify names, set up matrices\n",
    "    @unpack β, γ, mc, g, n = ap\n",
    "    P, y = mc.p, mc.state_values\n",
    "    y = reshape(y, 1, n)\n",
    "    M = P .* g.(y).^(-γ)\n",
    "\n",
    "    # Make sure that a unique solution exists\n",
    "    test_stability(ap, M)\n",
    "\n",
    "    # Compute price\n",
    "    return (I - β * M) \\ sum(β * ζ * M, dims = 2)\n",
    "end"
   ]
  },
  {
   "cell_type": "markdown",
   "metadata": {},
   "source": [
    "### Pricing an Option to Purchase the Consol\n",
    "\n",
    "Let’s now price options of varying maturity that give the right to purchase a consol at a price $ p_S $"
   ]
  },
  {
   "cell_type": "markdown",
   "metadata": {},
   "source": [
    "#### An infinite horizon call option\n",
    "\n",
    "We want to price an infinite horizon  option to purchase a consol at a price $ p_S $\n",
    "\n",
    "The option entitles the owner at the beginning of a period either to\n",
    "\n",
    "1. purchase the bond at price $ p_S $ now, or  \n",
    "1. Not to exercise the option now but to retain the right to exercise it later  \n",
    "\n",
    "\n",
    "Thus, the owner either *exercises* the option now, or chooses *not to exercise* and wait until next period\n",
    "\n",
    "This is termed an infinite-horizon *call option* with *strike price* $ p_S $\n",
    "\n",
    "The owner of the option is entitled to purchase the consol at the price $ p_S $ at the beginning of any period, after the coupon has been paid to the previous owner of the bond\n",
    "\n",
    "The fundamentals of the economy are identical with the one above, including the stochastic discount factor and the process for consumption\n",
    "\n",
    "Let $ w(X_t, p_S) $ be the value of the option when the time $ t $ growth state is known to be $ X_t $ but *before* the owner has decided whether or not to exercise the option\n",
    "at time $ t $ (i.e., today)\n",
    "\n",
    "Recalling that $ p(X_t) $ is the value of the consol when the initial growth state is $ X_t $, the value of the option satisfies\n",
    "\n",
    "$$\n",
    "w(X_t, p_S)\n",
    "= \\max \\left\\{\n",
    "    \\beta \\, {\\mathbb E}_t \\frac{u'(c_{t+1})}{u'(c_t)} w(X_{t+1}, p_S), \\;\n",
    "         p(X_t) - p_S\n",
    "\\right\\}\n",
    "$$\n",
    "\n",
    "The first term on the right is the value of waiting, while the second is the value of exercising now\n",
    "\n",
    "We can also write this as\n",
    "\n",
    "\n",
    "<a id='equation-feoption0'></a>\n",
    "$$\n",
    "w(x, p_S)\n",
    "= \\max \\left\\{\n",
    "    \\beta \\sum_{y \\in S} P(x, y) g(y)^{-\\gamma}\n",
    "    w (y, p_S), \\;\n",
    "    p(x) - p_S\n",
    "\\right\\} \\tag{17}\n",
    "$$\n",
    "\n",
    "With $ M(x, y) = P(x, y) g(y)^{-\\gamma} $ and $ w $ as the vector of\n",
    "values $ (w(x_i), p_S)_{i = 1}^n $, we can express [(17)](#equation-feoption0) as the nonlinear vector equation\n",
    "\n",
    "\n",
    "<a id='equation-feoption'></a>\n",
    "$$\n",
    "w = \\max \\{ \\beta M w, \\; p - p_S {\\mathbb 1} \\} \\tag{18}\n",
    "$$\n",
    "\n",
    "To solve [(18)](#equation-feoption), form the operator $ T $ mapping vector $ w $\n",
    "into vector $ Tw $ via\n",
    "\n",
    "$$\n",
    "T w\n",
    "= \\max \\{ \\beta M w,\\; p - p_S {\\mathbb 1} \\}\n",
    "$$\n",
    "\n",
    "Start at some initial $ w $ and iterate to convergence with $ T $\n",
    "\n",
    "We can find the solution with the following function call_option"
   ]
  },
  {
   "cell_type": "code",
   "execution_count": 8,
   "metadata": {
    "hide-output": false
   },
   "outputs": [
    {
     "data": {
      "text/plain": [
       "call_option (generic function with 2 methods)"
      ]
     },
     "execution_count": 8,
     "metadata": {},
     "output_type": "execute_result"
    }
   ],
   "source": [
    "# price of perpetual call on consol bond\n",
    "function call_option(ap, ζ, p_s, ϵ = 1e-7)\n",
    "\n",
    "    # Simplify names, set up matrices\n",
    "    @unpack β, γ, mc, g, n = ap\n",
    "    P, y = mc.p, mc.state_values\n",
    "    y = reshape(y, 1, n)\n",
    "    M = P .* g.(y).^(-γ)\n",
    "\n",
    "    # Make sure that a unique console price exists\n",
    "    test_stability(ap, M)\n",
    "\n",
    "    # Compute option price\n",
    "    p = consol_price(ap, ζ)\n",
    "    w = zeros(ap.n, 1)\n",
    "    error = ϵ + 1\n",
    "    while (error > ϵ)\n",
    "        # Maximize across columns\n",
    "        w_new = max.(β * M * w, p .- p_s)\n",
    "        # Find maximal difference of each component and update\n",
    "        error = maximum(abs, w - w_new)\n",
    "        w = w_new\n",
    "    end\n",
    "\n",
    "    return w\n",
    "end"
   ]
  },
  {
   "cell_type": "markdown",
   "metadata": {},
   "source": [
    "Here’s a plot of $ w $ compared to the consol price when $ P_S = 40 $"
   ]
  },
  {
   "cell_type": "code",
   "execution_count": 9,
   "metadata": {
    "hide-output": false
   },
   "outputs": [
    {
     "data": {
      "image/png": "[encoded data removed]"
     },
     "execution_count": 9,
     "metadata": {},
     "output_type": "execute_result"
    }
   ],
   "source": [
    "ap = AssetPriceModel(β=0.9)\n",
    "ζ = 1.0\n",
    "strike_price = 40.0\n",
    "\n",
    "x = ap.mc.state_values\n",
    "p = consol_price(ap, ζ)\n",
    "w = call_option(ap, ζ, strike_price)\n",
    "\n",
    "plot(x, p, color = \"blue\", lw = 2, xlabel = \"state\", label = \"consol price\")\n",
    "plot!(x, w, color = \"green\", lw = 2, label = \"value of call option\")"
   ]
  },
  {
   "cell_type": "markdown",
   "metadata": {},
   "source": [
    "In large states the value of the option is close to zero\n",
    "\n",
    "This is despite the fact the Markov chain is irreducible and low states —\n",
    "where the consol prices is high — will eventually be visited\n",
    "\n",
    "The reason is that $ \\beta=0.9 $, so the future is discounted relatively rapidly"
   ]
  },
  {
   "cell_type": "markdown",
   "metadata": {},
   "source": [
    "### Risk Free Rates\n",
    "\n",
    "Let’s look at risk free interest rates over different periods"
   ]
  },
  {
   "cell_type": "markdown",
   "metadata": {},
   "source": [
    "#### The one-period risk-free interest rate\n",
    "\n",
    "As before, the stochastic discount factor is $ m_{t+1} = \\beta g_{t+1}^{-\\gamma} $\n",
    "\n",
    "It follows that the reciprocal $ R_t^{-1} $ of the gross risk-free interest rate $ R_t $ in state $ x $ is\n",
    "\n",
    "$$\n",
    "{\\mathbb E}_t m_{t+1} = \\beta \\sum_{y \\in S} P(x, y) g(y)^{-\\gamma}\n",
    "$$\n",
    "\n",
    "We can write this as\n",
    "\n",
    "$$\n",
    "m_1 = \\beta M {\\mathbb 1}\n",
    "$$\n",
    "\n",
    "where the $ i $-th  element of $ m_1 $ is the reciprocal of the one-period gross risk-free interest rate in state $ x_i $"
   ]
  },
  {
   "cell_type": "markdown",
   "metadata": {},
   "source": [
    "#### Other terms\n",
    "\n",
    "Let $ m_j $ be an $ n \\times 1 $ vector whose $ i $ th component is the reciprocal of the $ j $ -period gross risk-free interest rate in state $ x_i $\n",
    "\n",
    "Then $ m_1 = \\beta M $, and $ m_{j+1} = M m_j $ for $ j \\geq 1 $"
   ]
  },
  {
   "cell_type": "markdown",
   "metadata": {},
   "source": [
    "## Exercises"
   ]
  },
  {
   "cell_type": "markdown",
   "metadata": {},
   "source": [
    "### Exercise 1\n",
    "\n",
    "In the lecture, we considered **ex-dividend assets**\n",
    "\n",
    "A **cum-dividend** asset is a claim to the stream $ d_t, d_{t+1}, \\ldots $\n",
    "\n",
    "Following [(1)](#equation-rnapex), find the risk-neutral asset pricing equation for\n",
    "one unit of a cum-dividend asset\n",
    "\n",
    "With a constant, non-random dividend stream $ d_t = d > 0 $, what is the equilibrium\n",
    "price of a cum-dividend asset?\n",
    "\n",
    "With a growing, non-random dividend process $ d_t = g d_t $ where $ 0 < g \\beta < 1 $,\n",
    "what is the equilibrium price of a cum-dividend asset?"
   ]
  },
  {
   "cell_type": "markdown",
   "metadata": {},
   "source": [
    "### Exercise 2\n",
    "\n",
    "Consider the following primitives"
   ]
  },
  {
   "cell_type": "code",
   "execution_count": 10,
   "metadata": {
    "hide-output": false
   },
   "outputs": [
    {
     "data": {
      "text/plain": [
       "1.0"
      ]
     },
     "execution_count": 10,
     "metadata": {},
     "output_type": "execute_result"
    }
   ],
   "source": [
    "n = 5\n",
    "P = fill(0.0125, n, n) + (0.95 - 0.0125)I\n",
    "s = [1.05, 1.025, 1.0, 0.975, 0.95]\n",
    "γ = 2.0\n",
    "β = 0.94\n",
    "ζ = 1.0"
   ]
  },
  {
   "cell_type": "markdown",
   "metadata": {},
   "source": [
    "Let $ g $ be defined by $ g(x) = x $  (that is, $ g $ is the identity map)\n",
    "\n",
    "Compute the price of the Lucas tree\n",
    "\n",
    "Do the same for\n",
    "\n",
    "- the price of the risk-free consol when $ \\zeta = 1 $  \n",
    "- the call option on the consol when $ \\zeta = 1 $ and $ p_S = 150.0 $  "
   ]
  },
  {
   "cell_type": "markdown",
   "metadata": {},
   "source": [
    "### Exercise 3\n",
    "\n",
    "Let’s consider finite horizon call options, which are more common than the\n",
    "infinite horizon variety\n",
    "\n",
    "Finite horizon options obey functional equations closely related to [(17)](#equation-feoption0)\n",
    "\n",
    "A $ k $ period option expires after $ k $ periods\n",
    "\n",
    "If we view today as date zero, a $ k $ period option gives the owner the right to exercise the option to purchase the risk-free consol at the strike price $ p_S $ at dates $ 0, 1, \\ldots , k-1 $\n",
    "\n",
    "The option expires at time $ k $\n",
    "\n",
    "Thus, for $ k=1, 2, \\ldots $, let $ w(x, k) $ be the value of a $ k $-period option\n",
    "\n",
    "It obeys\n",
    "\n",
    "$$\n",
    "w(x, k)\n",
    "= \\max \\left\\{\n",
    "    \\beta \\sum_{y \\in S} P(x, y) g(y)^{-\\gamma}\n",
    "    w (y, k-1), \\;\n",
    "    p(x) - p_S\n",
    "\\right\\}\n",
    "$$\n",
    "\n",
    "where $ w(x, 0) = 0 $ for all $ x $\n",
    "\n",
    "We can express the preceding as the sequence of nonlinear vector equations\n",
    "\n",
    "$$\n",
    "w_k = \\max \\{ \\beta M w_{k-1}, \\; p - p_S {\\mathbb 1} \\}\n",
    "  \\quad k =1, 2, \\ldots\n",
    "  \\quad \\text{with } w_0 = 0\n",
    "$$\n",
    "\n",
    "Write a function that computes $ w_k $ for any given $ k $\n",
    "\n",
    "Compute the value of the option with `k = 5` and `k = 25` using parameter values as in Exercise 1\n",
    "\n",
    "Is one higher than the other?  Can you give intuition?"
   ]
  },
  {
   "cell_type": "markdown",
   "metadata": {},
   "source": [
    "## Solutions"
   ]
  },
  {
   "cell_type": "markdown",
   "metadata": {},
   "source": [
    "### Exercise 2"
   ]
  },
  {
   "cell_type": "code",
   "execution_count": 11,
   "metadata": {
    "hide-output": false
   },
   "outputs": [
    {
     "data": {
      "text/plain": [
       "150.0"
      ]
     },
     "execution_count": 11,
     "metadata": {},
     "output_type": "execute_result"
    }
   ],
   "source": [
    "n = 5\n",
    "P = fill(0.0125, n, n) + (0.95 - 0.0125)I\n",
    "s = [0.95, 0.975, 1.0, 1.025, 1.05]  # state values\n",
    "mc = MarkovChain(P, s)\n",
    "\n",
    "γ = 2.0\n",
    "β = 0.94\n",
    "ζ = 1.0\n",
    "p_s = 150.0"
   ]
  },
  {
   "cell_type": "markdown",
   "metadata": {},
   "source": [
    "Next we’ll create an instance of AssetPriceModel to feed into the functions."
   ]
  },
  {
   "cell_type": "code",
   "execution_count": 12,
   "metadata": {
    "hide-output": false
   },
   "outputs": [
    {
     "data": {
      "text/plain": [
       "(β = 0.94, γ = 2.0, mc = Discrete Markov Chain\n",
       "stochastic matrix of type Array{Float64,2}:\n",
       "[0.95 0.0125 … 0.0125 0.0125; 0.0125 0.95 … 0.0125 0.0125; … ; 0.0125 0.0125 … 0.95 0.0125; 0.0125 0.0125 … 0.0125 0.95], n = 5, g = getfield(Main, Symbol(\"##7#8\"))())"
      ]
     },
     "execution_count": 12,
     "metadata": {},
     "output_type": "execute_result"
    }
   ],
   "source": [
    "ap = AssetPriceModel(β = β, mc = mc, γ = γ, g = x -> x)"
   ]
  },
  {
   "cell_type": "code",
   "execution_count": 13,
   "metadata": {
    "hide-output": false
   },
   "outputs": [
    {
     "name": "stdout",
     "output_type": "stream",
     "text": [
      "Lucas Tree Prices: [29.474; 21.9357; 17.5714; 14.7252; 12.7222]\n",
      "\n"
     ]
    }
   ],
   "source": [
    "v = tree_price(ap)\n",
    "println(\"Lucas Tree Prices: $v\\n\")"
   ]
  },
  {
   "cell_type": "code",
   "execution_count": 14,
   "metadata": {
    "hide-output": false
   },
   "outputs": [
    {
     "name": "stdout",
     "output_type": "stream",
     "text": [
      "Consol Bond Prices: [753.871; 242.551; 148.676; 109.251; 87.5686]\n",
      "\n"
     ]
    }
   ],
   "source": [
    "v_consol = consol_price(ap, 1.0)\n",
    "println(\"Consol Bond Prices: $(v_consol)\\n\")"
   ]
  },
  {
   "cell_type": "code",
   "execution_count": 15,
   "metadata": {
    "hide-output": false
   },
   "outputs": [
    {
     "data": {
      "text/plain": [
       "5×1 Array{Float64,2}:\n",
       " 603.8710047641987 \n",
       " 176.839334301913  \n",
       " 108.67734499337003\n",
       "  80.05179254233045\n",
       "  64.30843748377002"
      ]
     },
     "execution_count": 15,
     "metadata": {},
     "output_type": "execute_result"
    }
   ],
   "source": [
    "w = call_option(ap, ζ, p_s)"
   ]
  },
  {
   "cell_type": "markdown",
   "metadata": {},
   "source": [
    "### Exercise 3\n",
    "\n",
    "Here’s a suitable function:"
   ]
  },
  {
   "cell_type": "code",
   "execution_count": 16,
   "metadata": {
    "hide-output": false
   },
   "outputs": [
    {
     "data": {
      "text/plain": [
       "finite_horizon_call_option (generic function with 1 method)"
      ]
     },
     "execution_count": 16,
     "metadata": {},
     "output_type": "execute_result"
    }
   ],
   "source": [
    "function finite_horizon_call_option(ap, ζ, p_s, k)\n",
    "\n",
    "    # Simplify names, set up matrices\n",
    "    @unpack β, γ, mc = ap\n",
    "    P, y = mc.p, mc.state_values\n",
    "    y = y'\n",
    "    M = P .* ap.g.(y).^(- γ)\n",
    "\n",
    "    # Make sure that a unique console price exists\n",
    "    test_stability(ap, M)\n",
    "\n",
    "    # Compute option price\n",
    "    p = consol_price(ap, ζ)\n",
    "    w = zeros(ap.n, 1)\n",
    "    for i in 1:k\n",
    "        # Maximize across columns\n",
    "        w = max.(β * M * w, p .- p_s)\n",
    "    end\n",
    "\n",
    "    return w\n",
    "end"
   ]
  },
  {
   "cell_type": "code",
   "execution_count": 17,
   "metadata": {
    "hide-output": false
   },
   "outputs": [
    {
     "data": {
      "image/png": "[encoded data removed]"
     },
     "execution_count": 17,
     "metadata": {},
     "output_type": "execute_result"
    }
   ],
   "source": [
    "lines = []\n",
    "labels = []\n",
    "for k in [5, 25]\n",
    "    w = finite_horizon_call_option(ap, ζ, p_s, k)\n",
    "    push!(lines, w)\n",
    "    push!(labels, \"k = $k\")\n",
    "end\n",
    "plot(lines, labels = reshape(labels, 1, length(labels)))"
   ]
  },
  {
   "cell_type": "markdown",
   "metadata": {},
   "source": [
    "Not surprisingly, the option has greater value with larger $ k $.\n",
    "This is because the owner has a longer time horizon over which he or she\n",
    "may exercise the option."
   ]
  }
 ],
 "metadata": {
  "filename": "markov_asset.rst",
  "kernelspec": {
   "display_name": "Julia",
   "language": "julia",
   "name": "julia-1.0"
  },
  "language_info": {
   "file_extension": ".jl",
   "mimetype": "application/julia",
   "name": "julia",
   "version": "1.0.2"
  },
  "title": "Asset Pricing I: Finite State Models"
 },
 "nbformat": 4,
 "nbformat_minor": 2
}
